{
 "cells": [
  {
   "cell_type": "code",
   "execution_count": 1,
   "metadata": {
    "collapsed": false
   },
   "outputs": [
    {
     "name": "stdout",
     "output_type": "stream",
     "text": [
      "Populating the interactive namespace from numpy and matplotlib\n"
     ]
    },
    {
     "name": "stderr",
     "output_type": "stream",
     "text": [
      "C:\\Program Files\\Anaconda2\\lib\\site-packages\\sklearn\\cross_validation.py:44: DeprecationWarning: This module was deprecated in version 0.18 in favor of the model_selection module into which all the refactored classes and functions are moved. Also note that the interface of the new CV iterators are different from that of this module. This module will be removed in 0.20.\n",
      "  \"This module will be removed in 0.20.\", DeprecationWarning)\n"
     ]
    }
   ],
   "source": [
    "import numpy as np\n",
    "%pylab inline\n",
    "import pandas as pd\n",
    "import datetime\n",
    "import matplotlib.pyplot as plt\n",
    "%matplotlib inline\n",
    "import seaborn\n",
    "from glob import glob, iglob\n",
    "from scipy import stats\n",
    "import statsmodels.api as sm\n",
    "import statsmodels.formula.api as smf\n",
    "import matplotlib.pyplot as plt\n",
    "from sklearn.linear_model import LinearRegression, Lasso\n",
    "from itertools import product\n",
    "from sklearn.preprocessing import StandardScaler\n",
    "from sklearn.cluster import KMeans\n",
    "from xgboost import XGBRegressor, XGBClassifier\n",
    "from sklearn.ensemble import GradientBoostingRegressor\n",
    "from sklearn.model_selection import GridSearchCV\n",
    "from sklearn.feature_extraction import DictVectorizer as DV\n",
    "from sklearn.preprocessing import StandardScaler, LabelEncoder, OneHotEncoder\n",
    "from sklearn.linear_model import RidgeClassifier, RandomizedLasso, Ridge"
   ]
  },
  {
   "cell_type": "code",
   "execution_count": 37,
   "metadata": {
    "collapsed": false
   },
   "outputs": [
    {
     "data": {
      "text/html": [
       "<div>\n",
       "<table border=\"1\" class=\"dataframe\">\n",
       "  <thead>\n",
       "    <tr style=\"text-align: right;\">\n",
       "      <th></th>\n",
       "      <th>r1075</th>\n",
       "      <th>r1076</th>\n",
       "      <th>r1077</th>\n",
       "      <th>r1125</th>\n",
       "      <th>r1126</th>\n",
       "      <th>r1127</th>\n",
       "      <th>r1128</th>\n",
       "      <th>r1129</th>\n",
       "      <th>r1130</th>\n",
       "      <th>r1131</th>\n",
       "      <th>...</th>\n",
       "      <th>s32</th>\n",
       "      <th>c32</th>\n",
       "      <th>s33</th>\n",
       "      <th>c33</th>\n",
       "      <th>s34</th>\n",
       "      <th>c34</th>\n",
       "      <th>s35</th>\n",
       "      <th>c35</th>\n",
       "      <th>week</th>\n",
       "      <th>new_year</th>\n",
       "    </tr>\n",
       "  </thead>\n",
       "  <tbody>\n",
       "    <tr>\n",
       "      <th>2015-06-01 00:00:00</th>\n",
       "      <td>40</td>\n",
       "      <td>32</td>\n",
       "      <td>7</td>\n",
       "      <td>17</td>\n",
       "      <td>60</td>\n",
       "      <td>129</td>\n",
       "      <td>153</td>\n",
       "      <td>271</td>\n",
       "      <td>294</td>\n",
       "      <td>70</td>\n",
       "      <td>...</td>\n",
       "      <td>0.000000</td>\n",
       "      <td>1.000000</td>\n",
       "      <td>0.000000</td>\n",
       "      <td>1.000000</td>\n",
       "      <td>0.000000</td>\n",
       "      <td>1.000000</td>\n",
       "      <td>0.000000</td>\n",
       "      <td>1.000000</td>\n",
       "      <td>0</td>\n",
       "      <td>0</td>\n",
       "    </tr>\n",
       "    <tr>\n",
       "      <th>2015-06-01 01:00:00</th>\n",
       "      <td>17</td>\n",
       "      <td>20</td>\n",
       "      <td>5</td>\n",
       "      <td>13</td>\n",
       "      <td>38</td>\n",
       "      <td>90</td>\n",
       "      <td>111</td>\n",
       "      <td>163</td>\n",
       "      <td>246</td>\n",
       "      <td>28</td>\n",
       "      <td>...</td>\n",
       "      <td>0.930874</td>\n",
       "      <td>0.365341</td>\n",
       "      <td>0.943883</td>\n",
       "      <td>0.330279</td>\n",
       "      <td>0.955573</td>\n",
       "      <td>0.294755</td>\n",
       "      <td>0.965926</td>\n",
       "      <td>0.258819</td>\n",
       "      <td>0</td>\n",
       "      <td>0</td>\n",
       "    </tr>\n",
       "    <tr>\n",
       "      <th>2015-06-01 02:00:00</th>\n",
       "      <td>5</td>\n",
       "      <td>5</td>\n",
       "      <td>0</td>\n",
       "      <td>8</td>\n",
       "      <td>25</td>\n",
       "      <td>47</td>\n",
       "      <td>97</td>\n",
       "      <td>139</td>\n",
       "      <td>207</td>\n",
       "      <td>25</td>\n",
       "      <td>...</td>\n",
       "      <td>0.680173</td>\n",
       "      <td>-0.733052</td>\n",
       "      <td>0.623490</td>\n",
       "      <td>-0.781831</td>\n",
       "      <td>0.563320</td>\n",
       "      <td>-0.826239</td>\n",
       "      <td>0.500000</td>\n",
       "      <td>-0.866025</td>\n",
       "      <td>0</td>\n",
       "      <td>0</td>\n",
       "    </tr>\n",
       "    <tr>\n",
       "      <th>2015-06-01 03:00:00</th>\n",
       "      <td>5</td>\n",
       "      <td>6</td>\n",
       "      <td>0</td>\n",
       "      <td>6</td>\n",
       "      <td>27</td>\n",
       "      <td>26</td>\n",
       "      <td>68</td>\n",
       "      <td>77</td>\n",
       "      <td>208</td>\n",
       "      <td>29</td>\n",
       "      <td>...</td>\n",
       "      <td>-0.433884</td>\n",
       "      <td>-0.900969</td>\n",
       "      <td>-0.532032</td>\n",
       "      <td>-0.846724</td>\n",
       "      <td>-0.623490</td>\n",
       "      <td>-0.781831</td>\n",
       "      <td>-0.707107</td>\n",
       "      <td>-0.707107</td>\n",
       "      <td>0</td>\n",
       "      <td>0</td>\n",
       "    </tr>\n",
       "    <tr>\n",
       "      <th>2015-06-01 04:00:00</th>\n",
       "      <td>8</td>\n",
       "      <td>16</td>\n",
       "      <td>2</td>\n",
       "      <td>6</td>\n",
       "      <td>21</td>\n",
       "      <td>39</td>\n",
       "      <td>53</td>\n",
       "      <td>81</td>\n",
       "      <td>109</td>\n",
       "      <td>8</td>\n",
       "      <td>...</td>\n",
       "      <td>-0.997204</td>\n",
       "      <td>0.074730</td>\n",
       "      <td>-0.974928</td>\n",
       "      <td>0.222521</td>\n",
       "      <td>-0.930874</td>\n",
       "      <td>0.365341</td>\n",
       "      <td>-0.866025</td>\n",
       "      <td>0.500000</td>\n",
       "      <td>0</td>\n",
       "      <td>0</td>\n",
       "    </tr>\n",
       "  </tbody>\n",
       "</table>\n",
       "<p>5 rows × 174 columns</p>\n",
       "</div>"
      ],
      "text/plain": [
       "                     r1075  r1076  r1077  r1125  r1126  r1127  r1128  r1129  \\\n",
       "2015-06-01 00:00:00     40     32      7     17     60    129    153    271   \n",
       "2015-06-01 01:00:00     17     20      5     13     38     90    111    163   \n",
       "2015-06-01 02:00:00      5      5      0      8     25     47     97    139   \n",
       "2015-06-01 03:00:00      5      6      0      6     27     26     68     77   \n",
       "2015-06-01 04:00:00      8     16      2      6     21     39     53     81   \n",
       "\n",
       "                     r1130  r1131    ...          s32       c32       s33  \\\n",
       "2015-06-01 00:00:00    294     70    ...     0.000000  1.000000  0.000000   \n",
       "2015-06-01 01:00:00    246     28    ...     0.930874  0.365341  0.943883   \n",
       "2015-06-01 02:00:00    207     25    ...     0.680173 -0.733052  0.623490   \n",
       "2015-06-01 03:00:00    208     29    ...    -0.433884 -0.900969 -0.532032   \n",
       "2015-06-01 04:00:00    109      8    ...    -0.997204  0.074730 -0.974928   \n",
       "\n",
       "                          c33       s34       c34       s35       c35  week  \\\n",
       "2015-06-01 00:00:00  1.000000  0.000000  1.000000  0.000000  1.000000     0   \n",
       "2015-06-01 01:00:00  0.330279  0.955573  0.294755  0.965926  0.258819     0   \n",
       "2015-06-01 02:00:00 -0.781831  0.563320 -0.826239  0.500000 -0.866025     0   \n",
       "2015-06-01 03:00:00 -0.846724 -0.623490 -0.781831 -0.707107 -0.707107     0   \n",
       "2015-06-01 04:00:00  0.222521 -0.930874  0.365341 -0.866025  0.500000     0   \n",
       "\n",
       "                     new_year  \n",
       "2015-06-01 00:00:00         0  \n",
       "2015-06-01 01:00:00         0  \n",
       "2015-06-01 02:00:00         0  \n",
       "2015-06-01 03:00:00         0  \n",
       "2015-06-01 04:00:00         0  \n",
       "\n",
       "[5 rows x 174 columns]"
      ]
     },
     "execution_count": 37,
     "metadata": {},
     "output_type": "execute_result"
    }
   ],
   "source": [
    "data=pd.read_pickle('true_taxi_data.pkl')\n",
    "data.head()"
   ]
  },
  {
   "cell_type": "code",
   "execution_count": 15,
   "metadata": {
    "collapsed": false
   },
   "outputs": [],
   "source": [
    "sins=data.columns[102:174]"
   ]
  },
  {
   "cell_type": "code",
   "execution_count": 41,
   "metadata": {
    "collapsed": true
   },
   "outputs": [],
   "source": [
    "data=data['2015-01-09 00:00:00':]"
   ]
  },
  {
   "cell_type": "code",
   "execution_count": 65,
   "metadata": {
    "collapsed": false
   },
   "outputs": [
    {
     "data": {
      "text/plain": [
       "Index([u'r1533', u'r1580', u'r1630', u'r1684', u'r1733', u'r1734', u'r1783',\n",
       "       u'r2068', u'r2069', u'r2118', u'r2119', u'r2168'],\n",
       "      dtype='object')"
      ]
     },
     "execution_count": 65,
     "metadata": {},
     "output_type": "execute_result"
    }
   ],
   "source": [
    "data.columns[90:102]"
   ]
  },
  {
   "cell_type": "code",
   "execution_count": 67,
   "metadata": {
    "collapsed": false
   },
   "outputs": [],
   "source": [
    "data.to_pickle('data_pred_taxi.pkl')"
   ]
  },
  {
   "cell_type": "markdown",
   "metadata": {},
   "source": [
    "Загрузим данные"
   ]
  },
  {
   "cell_type": "code",
   "execution_count": 265,
   "metadata": {
    "collapsed": false
   },
   "outputs": [
    {
     "data": {
      "text/html": [
       "<div>\n",
       "<table border=\"1\" class=\"dataframe\">\n",
       "  <thead>\n",
       "    <tr style=\"text-align: right;\">\n",
       "      <th></th>\n",
       "      <th>r1075</th>\n",
       "      <th>r1076</th>\n",
       "      <th>r1077</th>\n",
       "      <th>r1125</th>\n",
       "      <th>r1126</th>\n",
       "      <th>r1127</th>\n",
       "      <th>r1128</th>\n",
       "      <th>r1129</th>\n",
       "      <th>r1130</th>\n",
       "      <th>r1131</th>\n",
       "      <th>...</th>\n",
       "      <th>p1630</th>\n",
       "      <th>p1684</th>\n",
       "      <th>p1733</th>\n",
       "      <th>p1734</th>\n",
       "      <th>p1783</th>\n",
       "      <th>p2068</th>\n",
       "      <th>p2069</th>\n",
       "      <th>p2118</th>\n",
       "      <th>p2119</th>\n",
       "      <th>p2168</th>\n",
       "    </tr>\n",
       "  </thead>\n",
       "  <tbody>\n",
       "    <tr>\n",
       "      <th>2015-06-01 00:00:00</th>\n",
       "      <td>40</td>\n",
       "      <td>32</td>\n",
       "      <td>7</td>\n",
       "      <td>17</td>\n",
       "      <td>60</td>\n",
       "      <td>129</td>\n",
       "      <td>153</td>\n",
       "      <td>271</td>\n",
       "      <td>294</td>\n",
       "      <td>70</td>\n",
       "      <td>...</td>\n",
       "      <td>6.834754</td>\n",
       "      <td>6.904620</td>\n",
       "      <td>3.961101</td>\n",
       "      <td>152.448716</td>\n",
       "      <td>102.071675</td>\n",
       "      <td>65.347774</td>\n",
       "      <td>7.540368</td>\n",
       "      <td>116.667380</td>\n",
       "      <td>28.079413</td>\n",
       "      <td>51.331238</td>\n",
       "    </tr>\n",
       "    <tr>\n",
       "      <th>2015-06-01 01:00:00</th>\n",
       "      <td>17</td>\n",
       "      <td>20</td>\n",
       "      <td>5</td>\n",
       "      <td>13</td>\n",
       "      <td>38</td>\n",
       "      <td>90</td>\n",
       "      <td>111</td>\n",
       "      <td>163</td>\n",
       "      <td>246</td>\n",
       "      <td>28</td>\n",
       "      <td>...</td>\n",
       "      <td>9.376189</td>\n",
       "      <td>10.518599</td>\n",
       "      <td>8.335553</td>\n",
       "      <td>591.914713</td>\n",
       "      <td>476.680785</td>\n",
       "      <td>271.767994</td>\n",
       "      <td>23.203243</td>\n",
       "      <td>357.619816</td>\n",
       "      <td>117.544463</td>\n",
       "      <td>152.158198</td>\n",
       "    </tr>\n",
       "    <tr>\n",
       "      <th>2015-06-01 02:00:00</th>\n",
       "      <td>5</td>\n",
       "      <td>5</td>\n",
       "      <td>0</td>\n",
       "      <td>8</td>\n",
       "      <td>25</td>\n",
       "      <td>47</td>\n",
       "      <td>97</td>\n",
       "      <td>139</td>\n",
       "      <td>207</td>\n",
       "      <td>25</td>\n",
       "      <td>...</td>\n",
       "      <td>5.127864</td>\n",
       "      <td>10.476913</td>\n",
       "      <td>21.829399</td>\n",
       "      <td>600.038681</td>\n",
       "      <td>513.846111</td>\n",
       "      <td>200.458063</td>\n",
       "      <td>18.973367</td>\n",
       "      <td>193.926681</td>\n",
       "      <td>108.146461</td>\n",
       "      <td>89.339985</td>\n",
       "    </tr>\n",
       "    <tr>\n",
       "      <th>2015-06-01 03:00:00</th>\n",
       "      <td>5</td>\n",
       "      <td>6</td>\n",
       "      <td>0</td>\n",
       "      <td>6</td>\n",
       "      <td>27</td>\n",
       "      <td>26</td>\n",
       "      <td>68</td>\n",
       "      <td>77</td>\n",
       "      <td>208</td>\n",
       "      <td>29</td>\n",
       "      <td>...</td>\n",
       "      <td>5.541434</td>\n",
       "      <td>11.090584</td>\n",
       "      <td>10.195935</td>\n",
       "      <td>174.124157</td>\n",
       "      <td>123.519075</td>\n",
       "      <td>46.247334</td>\n",
       "      <td>61.746741</td>\n",
       "      <td>193.021657</td>\n",
       "      <td>84.985269</td>\n",
       "      <td>93.651735</td>\n",
       "    </tr>\n",
       "    <tr>\n",
       "      <th>2015-06-01 04:00:00</th>\n",
       "      <td>8</td>\n",
       "      <td>16</td>\n",
       "      <td>2</td>\n",
       "      <td>6</td>\n",
       "      <td>21</td>\n",
       "      <td>39</td>\n",
       "      <td>53</td>\n",
       "      <td>81</td>\n",
       "      <td>109</td>\n",
       "      <td>8</td>\n",
       "      <td>...</td>\n",
       "      <td>13.103516</td>\n",
       "      <td>-1.456841</td>\n",
       "      <td>1.613935</td>\n",
       "      <td>50.201114</td>\n",
       "      <td>-22.364576</td>\n",
       "      <td>6.160092</td>\n",
       "      <td>4.096793</td>\n",
       "      <td>52.433939</td>\n",
       "      <td>-0.699237</td>\n",
       "      <td>100.624092</td>\n",
       "    </tr>\n",
       "  </tbody>\n",
       "</table>\n",
       "<p>5 rows × 276 columns</p>\n",
       "</div>"
      ],
      "text/plain": [
       "                     r1075  r1076  r1077  r1125  r1126  r1127  r1128  r1129  \\\n",
       "2015-06-01 00:00:00     40     32      7     17     60    129    153    271   \n",
       "2015-06-01 01:00:00     17     20      5     13     38     90    111    163   \n",
       "2015-06-01 02:00:00      5      5      0      8     25     47     97    139   \n",
       "2015-06-01 03:00:00      5      6      0      6     27     26     68     77   \n",
       "2015-06-01 04:00:00      8     16      2      6     21     39     53     81   \n",
       "\n",
       "                     r1130  r1131     ...          p1630      p1684  \\\n",
       "2015-06-01 00:00:00    294     70     ...       6.834754   6.904620   \n",
       "2015-06-01 01:00:00    246     28     ...       9.376189  10.518599   \n",
       "2015-06-01 02:00:00    207     25     ...       5.127864  10.476913   \n",
       "2015-06-01 03:00:00    208     29     ...       5.541434  11.090584   \n",
       "2015-06-01 04:00:00    109      8     ...      13.103516  -1.456841   \n",
       "\n",
       "                         p1733       p1734       p1783       p2068      p2069  \\\n",
       "2015-06-01 00:00:00   3.961101  152.448716  102.071675   65.347774   7.540368   \n",
       "2015-06-01 01:00:00   8.335553  591.914713  476.680785  271.767994  23.203243   \n",
       "2015-06-01 02:00:00  21.829399  600.038681  513.846111  200.458063  18.973367   \n",
       "2015-06-01 03:00:00  10.195935  174.124157  123.519075   46.247334  61.746741   \n",
       "2015-06-01 04:00:00   1.613935   50.201114  -22.364576    6.160092   4.096793   \n",
       "\n",
       "                          p2118       p2119       p2168  \n",
       "2015-06-01 00:00:00  116.667380   28.079413   51.331238  \n",
       "2015-06-01 01:00:00  357.619816  117.544463  152.158198  \n",
       "2015-06-01 02:00:00  193.926681  108.146461   89.339985  \n",
       "2015-06-01 03:00:00  193.021657   84.985269   93.651735  \n",
       "2015-06-01 04:00:00   52.433939   -0.699237  100.624092  \n",
       "\n",
       "[5 rows x 276 columns]"
      ]
     },
     "execution_count": 265,
     "metadata": {},
     "output_type": "execute_result"
    }
   ],
   "source": [
    "data=pd.read_pickle('data_pred_taxi.pkl')\n",
    "data.head()"
   ]
  },
  {
   "cell_type": "code",
   "execution_count": 266,
   "metadata": {
    "collapsed": false
   },
   "outputs": [],
   "source": [
    "def lst(x,hr):\n",
    "    tmp=[0]*(hr)\n",
    "    for i in range(len(x)-(hr)):\n",
    "        tmp.append(x[i:i+hr])\n",
    "    return tmp"
   ]
  },
  {
   "cell_type": "markdown",
   "metadata": {},
   "source": [
    "Построим новые признаки"
   ]
  },
  {
   "cell_type": "code",
   "execution_count": 267,
   "metadata": {
    "collapsed": false,
    "scrolled": false
   },
   "outputs": [
    {
     "name": "stdout",
     "output_type": "stream",
     "text": [
      "r1075 - 0\n"
     ]
    },
    {
     "name": "stderr",
     "output_type": "stream",
     "text": [
      "C:\\Program Files\\Anaconda2\\lib\\site-packages\\ipykernel\\__main__.py:5: SettingWithCopyWarning: \n",
      "A value is trying to be set on a copy of a slice from a DataFrame.\n",
      "Try using .loc[row_indexer,col_indexer] = value instead\n",
      "\n",
      "See the caveats in the documentation: http://pandas.pydata.org/pandas-docs/stable/indexing.html#indexing-view-versus-copy\n",
      "C:\\Program Files\\Anaconda2\\lib\\site-packages\\ipykernel\\__main__.py:6: SettingWithCopyWarning: \n",
      "A value is trying to be set on a copy of a slice from a DataFrame.\n",
      "Try using .loc[row_indexer,col_indexer] = value instead\n",
      "\n",
      "See the caveats in the documentation: http://pandas.pydata.org/pandas-docs/stable/indexing.html#indexing-view-versus-copy\n",
      "C:\\Program Files\\Anaconda2\\lib\\site-packages\\ipykernel\\__main__.py:7: SettingWithCopyWarning: \n",
      "A value is trying to be set on a copy of a slice from a DataFrame.\n",
      "Try using .loc[row_indexer,col_indexer] = value instead\n",
      "\n",
      "See the caveats in the documentation: http://pandas.pydata.org/pandas-docs/stable/indexing.html#indexing-view-versus-copy\n",
      "C:\\Program Files\\Anaconda2\\lib\\site-packages\\ipykernel\\__main__.py:8: SettingWithCopyWarning: \n",
      "A value is trying to be set on a copy of a slice from a DataFrame.\n",
      "Try using .loc[row_indexer,col_indexer] = value instead\n",
      "\n",
      "See the caveats in the documentation: http://pandas.pydata.org/pandas-docs/stable/indexing.html#indexing-view-versus-copy\n",
      "C:\\Program Files\\Anaconda2\\lib\\site-packages\\ipykernel\\__main__.py:9: SettingWithCopyWarning: \n",
      "A value is trying to be set on a copy of a slice from a DataFrame.\n",
      "Try using .loc[row_indexer,col_indexer] = value instead\n",
      "\n",
      "See the caveats in the documentation: http://pandas.pydata.org/pandas-docs/stable/indexing.html#indexing-view-versus-copy\n",
      "C:\\Program Files\\Anaconda2\\lib\\site-packages\\ipykernel\\__main__.py:12: SettingWithCopyWarning: \n",
      "A value is trying to be set on a copy of a slice from a DataFrame.\n",
      "Try using .loc[row_indexer,col_indexer] = value instead\n",
      "\n",
      "See the caveats in the documentation: http://pandas.pydata.org/pandas-docs/stable/indexing.html#indexing-view-versus-copy\n",
      "C:\\Program Files\\Anaconda2\\lib\\site-packages\\ipykernel\\__main__.py:13: SettingWithCopyWarning: \n",
      "A value is trying to be set on a copy of a slice from a DataFrame.\n",
      "Try using .loc[row_indexer,col_indexer] = value instead\n",
      "\n",
      "See the caveats in the documentation: http://pandas.pydata.org/pandas-docs/stable/indexing.html#indexing-view-versus-copy\n",
      "C:\\Program Files\\Anaconda2\\lib\\site-packages\\ipykernel\\__main__.py:15: SettingWithCopyWarning: \n",
      "A value is trying to be set on a copy of a slice from a DataFrame.\n",
      "Try using .loc[row_indexer,col_indexer] = value instead\n",
      "\n",
      "See the caveats in the documentation: http://pandas.pydata.org/pandas-docs/stable/indexing.html#indexing-view-versus-copy\n",
      "C:\\Program Files\\Anaconda2\\lib\\site-packages\\ipykernel\\__main__.py:17: SettingWithCopyWarning: \n",
      "A value is trying to be set on a copy of a slice from a DataFrame.\n",
      "Try using .loc[row_indexer,col_indexer] = value instead\n",
      "\n",
      "See the caveats in the documentation: http://pandas.pydata.org/pandas-docs/stable/indexing.html#indexing-view-versus-copy\n",
      "C:\\Program Files\\Anaconda2\\lib\\site-packages\\ipykernel\\__main__.py:20: SettingWithCopyWarning: \n",
      "A value is trying to be set on a copy of a slice from a DataFrame.\n",
      "Try using .loc[row_indexer,col_indexer] = value instead\n",
      "\n",
      "See the caveats in the documentation: http://pandas.pydata.org/pandas-docs/stable/indexing.html#indexing-view-versus-copy\n",
      "C:\\Program Files\\Anaconda2\\lib\\site-packages\\ipykernel\\__main__.py:23: SettingWithCopyWarning: \n",
      "A value is trying to be set on a copy of a slice from a DataFrame.\n",
      "Try using .loc[row_indexer,col_indexer] = value instead\n",
      "\n",
      "See the caveats in the documentation: http://pandas.pydata.org/pandas-docs/stable/indexing.html#indexing-view-versus-copy\n",
      "C:\\Program Files\\Anaconda2\\lib\\site-packages\\ipykernel\\__main__.py:25: SettingWithCopyWarning: \n",
      "A value is trying to be set on a copy of a slice from a DataFrame.\n",
      "Try using .loc[row_indexer,col_indexer] = value instead\n",
      "\n",
      "See the caveats in the documentation: http://pandas.pydata.org/pandas-docs/stable/indexing.html#indexing-view-versus-copy\n",
      "C:\\Program Files\\Anaconda2\\lib\\site-packages\\ipykernel\\__main__.py:26: SettingWithCopyWarning: \n",
      "A value is trying to be set on a copy of a slice from a DataFrame\n",
      "\n",
      "See the caveats in the documentation: http://pandas.pydata.org/pandas-docs/stable/indexing.html#indexing-view-versus-copy\n"
     ]
    },
    {
     "name": "stdout",
     "output_type": "stream",
     "text": [
      "r1076 - 1\n",
      "r1077 - 2\n",
      "r1125 - 3\n",
      "r1126 - 4\n",
      "r1127 - 5\n",
      "r1128 - 6\n",
      "r1129 - 7\n",
      "r1130 - 8\n",
      "r1131 - 9\n",
      "r1132 - 10\n",
      "r1172 - 11\n",
      "r1173 - 12\n",
      "r1174 - 13\n",
      "r1175 - 14\n",
      "r1176 - 15\n",
      "r1177 - 16\n",
      "r1178 - 17\n",
      "r1179 - 18\n",
      "r1180 - 19\n",
      "r1181 - 20\n",
      "r1182 - 21\n",
      "r1183 - 22\n",
      "r1184 - 23\n",
      "r1221 - 24\n",
      "r1222 - 25\n",
      "r1223 - 26\n",
      "r1224 - 27\n",
      "r1225 - 28\n",
      "r1227 - 29\n",
      "r1228 - 30\n",
      "r1229 - 31\n",
      "r1230 - 32\n",
      "r1231 - 33\n",
      "r1232 - 34\n",
      "r1233 - 35\n",
      "r1234 - 36\n",
      "r1235 - 37\n",
      "r1272 - 38\n",
      "r1273 - 39\n",
      "r1274 - 40\n",
      "r1278 - 41\n",
      "r1279 - 42\n",
      "r1280 - 43\n",
      "r1281 - 44\n",
      "r1282 - 45\n",
      "r1283 - 46\n",
      "r1284 - 47\n",
      "r1285 - 48\n",
      "r1286 - 49\n",
      "r1287 - 50\n",
      "r1326 - 51\n",
      "r1327 - 52\n",
      "r1331 - 53\n",
      "r1332 - 54\n",
      "r1333 - 55\n",
      "r1334 - 56\n",
      "r1335 - 57\n",
      "r1336 - 58\n",
      "r1337 - 59\n",
      "r1338 - 60\n",
      "r1339 - 61\n",
      "r1376 - 62\n",
      "r1377 - 63\n",
      "r1378 - 64\n",
      "r1380 - 65\n",
      "r1382 - 66\n",
      "r1383 - 67\n",
      "r1384 - 68\n",
      "r1385 - 69\n",
      "r1386 - 70\n",
      "r1387 - 71\n",
      "r1388 - 72\n",
      "r1389 - 73\n",
      "r1390 - 74\n",
      "r1426 - 75\n",
      "r1431 - 76\n",
      "r1434 - 77\n",
      "r1435 - 78\n",
      "r1436 - 79\n",
      "r1437 - 80\n",
      "r1438 - 81\n",
      "r1439 - 82\n",
      "r1441 - 83\n",
      "r1442 - 84\n",
      "r1480 - 85\n",
      "r1482 - 86\n",
      "r1483 - 87\n",
      "r1530 - 88\n",
      "r1532 - 89\n",
      "r1533 - 90\n",
      "r1580 - 91\n",
      "r1630 - 92\n",
      "r1684 - 93\n",
      "r1733 - 94\n",
      "r1734 - 95\n",
      "r1783 - 96\n",
      "r2068 - 97\n",
      "r2069 - 98\n",
      "r2118 - 99\n",
      "r2119 - 100\n",
      "r2168 - 101\n"
     ]
    }
   ],
   "source": [
    "total=pd.DataFrame(columns=cls)\n",
    "for i,n in enumerate(data.columns[:102]):\n",
    "    print('{} - {}'.format(n,i))\n",
    "    temp=data[np.append(sins,[n,'p{}'.format(n[1:])])]\n",
    "    temp['year']=[x.year for x in temp.index]\n",
    "    temp['month']=[x.month for x in temp.index]\n",
    "    temp['day']=[x.day for x in temp.index]\n",
    "    temp['weekday']=[x.weekday() for x in temp.index]\n",
    "    temp['hour']=[x.hour for x in temp.index]\n",
    "    \n",
    "    y=temp[n].values\n",
    "    temp['y']=y\n",
    "    temp['pr']=temp['p{}'.format(n[1:])].values\n",
    "    for k in range(24):\n",
    "        temp['k{}'.format(k+1)]=np.append(np.zeros(k+1),y)[:-(k+1)]\n",
    "    for d in range(1,15):\n",
    "        temp['kd{}'.format(d)]=np.append(np.zeros(d*24),y)[:-(d*24)]\n",
    "    \n",
    "    for per in [12,24,168,720]:\n",
    "        temp['sum{}'.format(per)]=[np.sum(x) for x in lst(y,per)]\n",
    "    \n",
    "    for cl in range(6):\n",
    "        temp['y{}'.format(cl+1)]=np.append(y,np.zeros(cl+1),)[cl+1:]\n",
    "        \n",
    "    temp['reg']=n[1:]\n",
    "    temp.drop([n,'p{}'.format(n[1:])],1, inplace=True)\n",
    "    total=pd.concat((total,temp))"
   ]
  },
  {
   "cell_type": "code",
   "execution_count": 268,
   "metadata": {
    "collapsed": false
   },
   "outputs": [],
   "source": [
    "total.to_pickle('taxi_features_data.pkl')"
   ]
  },
  {
   "cell_type": "code",
   "execution_count": 3,
   "metadata": {
    "collapsed": false
   },
   "outputs": [],
   "source": [
    "total=pd.read_pickle('taxi_features_data.pkl')"
   ]
  },
  {
   "cell_type": "code",
   "execution_count": 4,
   "metadata": {
    "collapsed": false
   },
   "outputs": [],
   "source": [
    "train_subset=total[:\"2016-04-30 23:00:00\"]"
   ]
  },
  {
   "cell_type": "code",
   "execution_count": null,
   "metadata": {
    "collapsed": true
   },
   "outputs": [],
   "source": [
    "train_subset.drop(['y1','y2','y3','y4','y5','y6',],1,inplace=True)"
   ]
  },
  {
   "cell_type": "markdown",
   "metadata": {},
   "source": [
    "Сохраним данные"
   ]
  },
  {
   "cell_type": "code",
   "execution_count": 134,
   "metadata": {
    "collapsed": false,
    "scrolled": true
   },
   "outputs": [],
   "source": [
    "train_subset.to_pickle('train_subset_noy.pkl')"
   ]
  },
  {
   "cell_type": "code",
   "execution_count": 271,
   "metadata": {
    "collapsed": false
   },
   "outputs": [],
   "source": [
    "train_subset_may=total[\"2016-05-01 00:00:00\":\"2016-05-31 23:00:00\"]\n",
    "test_may=train_subset_may"
   ]
  },
  {
   "cell_type": "code",
   "execution_count": 122,
   "metadata": {
    "collapsed": false
   },
   "outputs": [],
   "source": [
    "train_subset_may.to_pickle('train_subset_may.pkl')"
   ]
  },
  {
   "cell_type": "code",
   "execution_count": 6,
   "metadata": {
    "collapsed": false
   },
   "outputs": [],
   "source": [
    "train_subset_june=total[\"2016-05-31 23:00:00\":\"2016-06-30 17:00:00\"]\n",
    "test_june=train_subset_june"
   ]
  },
  {
   "cell_type": "code",
   "execution_count": 74,
   "metadata": {
    "collapsed": false
   },
   "outputs": [],
   "source": [
    "train_subset_june.to_pickle('train_subset_june.pkl')"
   ]
  },
  {
   "cell_type": "code",
   "execution_count": 2,
   "metadata": {
    "collapsed": false
   },
   "outputs": [],
   "source": [
    "import pickle\n",
    "with open('train_y1.pkl','rb') as f:\n",
    "    train_y1=pickle.load(f)\n",
    "with open('train_y2.pkl','rb') as f:\n",
    "    train_y2=pickle.load(f)\n",
    "with open('train_y3.pkl','rb') as f:\n",
    "    train_y3=pickle.load(f)\n",
    "with open('train_y4.pkl','rb') as f:\n",
    "    train_y4=pickle.load(f)\n",
    "with open('train_y5.pkl','rb') as f:\n",
    "    train_y5=pickle.load(f)\n",
    "with open('train_y6.pkl','rb') as f:\n",
    "    train_y6=pickle.load(f)"
   ]
  },
  {
   "cell_type": "markdown",
   "metadata": {},
   "source": [
    "Подберем параметры регрессии. Будем использовать XGBRegressor. Он показал себя лучше всех в сравнении с Lasso и LinearRegressor."
   ]
  },
  {
   "cell_type": "code",
   "execution_count": null,
   "metadata": {
    "collapsed": true
   },
   "outputs": [],
   "source": [
    "params = {'n_estimators':[70,100,120],'max_depth':[3,5,7]}\n",
    "\n",
    "xgb_searcher = GridSearchCV(XGBRegressor(), params,n_jobs=-1)\n",
    "xgb_searcher.fit(train_subset.values, train_y1)"
   ]
  },
  {
   "cell_type": "markdown",
   "metadata": {
    "collapsed": false
   },
   "source": [
    "Лучшие параметры max_depth = 3, n_estimators=70"
   ]
  },
  {
   "cell_type": "markdown",
   "metadata": {},
   "source": [
    "Обучим 6 моделей. Перед обучением преобразуем категориальный признак региона с помощью one-hot encoder. А также отберем признаки с помощью RandomizedLasso."
   ]
  },
  {
   "cell_type": "code",
   "execution_count": null,
   "metadata": {
    "collapsed": true
   },
   "outputs": [],
   "source": [
    "dum1=pd.get_dummies(train_subset.reg)\n",
    "dum2=pd.get_dummies(test_june.reg)\n",
    "dum3=pd.get_dummies(test_may.reg)\n",
    "train_subset=pd.concat((train_subset,dum1),axis=1)\n",
    "test_june=pd.concat((test_june,dum2),axis=1)\n",
    "test_may=pd.concat((test_may,dum3),axis=1)\n",
    "train_subset.drop('reg',1,inplace=True)\n",
    "test_june.drop('reg',1,inplace=True)\n",
    "test_may.drop('reg',1,inplace=True)"
   ]
  },
  {
   "cell_type": "code",
   "execution_count": 12,
   "metadata": {
    "collapsed": false
   },
   "outputs": [
    {
     "name": "stderr",
     "output_type": "stream",
     "text": [
      "C:\\Program Files\\Anaconda2\\lib\\site-packages\\sklearn\\linear_model\\least_angle.py:309: ConvergenceWarning: Regressors in active set degenerate. Dropping a regressor, after 29 iterations, i.e. alpha=2.172e-03, with an active set of 29 regressors, and the smallest cholesky pivot element being 2.980e-08\n",
      "  ConvergenceWarning)\n",
      "C:\\Program Files\\Anaconda2\\lib\\site-packages\\sklearn\\linear_model\\least_angle.py:309: ConvergenceWarning: Regressors in active set degenerate. Dropping a regressor, after 29 iterations, i.e. alpha=2.172e-03, with an active set of 29 regressors, and the smallest cholesky pivot element being 1.490e-08\n",
      "  ConvergenceWarning)\n",
      "C:\\Program Files\\Anaconda2\\lib\\site-packages\\sklearn\\linear_model\\least_angle.py:309: ConvergenceWarning: Regressors in active set degenerate. Dropping a regressor, after 55 iterations, i.e. alpha=1.086e-03, with an active set of 51 regressors, and the smallest cholesky pivot element being 2.581e-08\n",
      "  ConvergenceWarning)\n",
      "C:\\Program Files\\Anaconda2\\lib\\site-packages\\sklearn\\linear_model\\least_angle.py:309: ConvergenceWarning: Regressors in active set degenerate. Dropping a regressor, after 94 iterations, i.e. alpha=2.879e-04, with an active set of 86 regressors, and the smallest cholesky pivot element being 1.490e-08\n",
      "  ConvergenceWarning)\n",
      "C:\\Program Files\\Anaconda2\\lib\\site-packages\\sklearn\\linear_model\\least_angle.py:334: ConvergenceWarning: Early stopping the lars path, as the residues are small and the current value of alpha is no longer well controlled. 96 iterations, alpha=2.662e-04, previous alpha=2.639e-04, with an active set of 87 regressors.\n",
      "  ConvergenceWarning)\n"
     ]
    },
    {
     "data": {
      "text/plain": [
       "XGBRegressor(base_score=0.5, colsample_bylevel=1, colsample_bytree=1, gamma=0,\n",
       "       learning_rate=0.1, max_delta_step=0, max_depth=3,\n",
       "       min_child_weight=1, missing=None, n_estimators=70, nthread=-1,\n",
       "       objective='reg:linear', reg_alpha=0, reg_lambda=1,\n",
       "       scale_pos_weight=1, seed=0, silent=True, subsample=1)"
      ]
     },
     "execution_count": 12,
     "metadata": {},
     "output_type": "execute_result"
    }
   ],
   "source": [
    "est=RandomizedLasso()\n",
    "X_new=est.fit_transform(train_subset.values, train_y1)\n",
    "est1=XGBRegressor(n_estimators=70,max_depth=3)\n",
    "est1.fit(X_new, train_y1)"
   ]
  },
  {
   "cell_type": "code",
   "execution_count": 249,
   "metadata": {
    "collapsed": false
   },
   "outputs": [
    {
     "data": {
      "text/plain": [
       "Ridge(alpha=1.0, copy_X=True, fit_intercept=True, max_iter=None,\n",
       "   normalize=False, random_state=None, solver='auto', tol=0.001)"
      ]
     },
     "execution_count": 249,
     "metadata": {},
     "output_type": "execute_result"
    }
   ],
   "source": [
    "estr1=Ridge()\n",
    "estr1.fit(X_new, train_y1)"
   ]
  },
  {
   "cell_type": "code",
   "execution_count": 231,
   "metadata": {
    "collapsed": false
   },
   "outputs": [
    {
     "name": "stderr",
     "output_type": "stream",
     "text": [
      "C:\\Program Files\\Anaconda2\\lib\\site-packages\\sklearn\\linear_model\\coordinate_descent.py:484: ConvergenceWarning: Objective did not converge. You might want to increase the number of iterations. Fitting data with very small alpha may cause precision problems.\n",
      "  ConvergenceWarning)\n"
     ]
    },
    {
     "data": {
      "text/plain": [
       "Lasso(alpha=1.0, copy_X=True, fit_intercept=True, max_iter=1000,\n",
       "   normalize=False, positive=False, precompute=False, random_state=None,\n",
       "   selection='cyclic', tol=0.0001, warm_start=False)"
      ]
     },
     "execution_count": 231,
     "metadata": {},
     "output_type": "execute_result"
    }
   ],
   "source": [
    "estla1=Lasso()\n",
    "estla1.fit(train_subset.values, train_y1)"
   ]
  },
  {
   "cell_type": "code",
   "execution_count": 227,
   "metadata": {
    "collapsed": false
   },
   "outputs": [
    {
     "data": {
      "text/plain": [
       "LinearRegression(copy_X=True, fit_intercept=True, n_jobs=1, normalize=False)"
      ]
     },
     "execution_count": 227,
     "metadata": {},
     "output_type": "execute_result"
    }
   ],
   "source": [
    "estl1=LinearRegression()\n",
    "estl1.fit(train_subset.values, train_y1)"
   ]
  },
  {
   "cell_type": "code",
   "execution_count": 13,
   "metadata": {
    "collapsed": true
   },
   "outputs": [],
   "source": [
    "with open('est11111.pkl','wb') as f:\n",
    "    pickle.dump(est1,f)"
   ]
  },
  {
   "cell_type": "code",
   "execution_count": 14,
   "metadata": {
    "collapsed": false
   },
   "outputs": [
    {
     "data": {
      "text/plain": [
       "XGBRegressor(base_score=0.5, colsample_bylevel=1, colsample_bytree=1, gamma=0,\n",
       "       learning_rate=0.1, max_delta_step=0, max_depth=3,\n",
       "       min_child_weight=1, missing=None, n_estimators=70, nthread=-1,\n",
       "       objective='reg:linear', reg_alpha=0, reg_lambda=1,\n",
       "       scale_pos_weight=1, seed=0, silent=True, subsample=1)"
      ]
     },
     "execution_count": 14,
     "metadata": {},
     "output_type": "execute_result"
    }
   ],
   "source": [
    "est2=XGBRegressor(n_estimators=70,max_depth=3)\n",
    "est2.fit(X_new, train_y2)"
   ]
  },
  {
   "cell_type": "code",
   "execution_count": 15,
   "metadata": {
    "collapsed": true
   },
   "outputs": [],
   "source": [
    "with open('est22222.pkl','wb') as f:\n",
    "    pickle.dump(est2,f)"
   ]
  },
  {
   "cell_type": "code",
   "execution_count": 16,
   "metadata": {
    "collapsed": false
   },
   "outputs": [
    {
     "data": {
      "text/plain": [
       "XGBRegressor(base_score=0.5, colsample_bylevel=1, colsample_bytree=1, gamma=0,\n",
       "       learning_rate=0.1, max_delta_step=0, max_depth=3,\n",
       "       min_child_weight=1, missing=None, n_estimators=70, nthread=-1,\n",
       "       objective='reg:linear', reg_alpha=0, reg_lambda=1,\n",
       "       scale_pos_weight=1, seed=0, silent=True, subsample=1)"
      ]
     },
     "execution_count": 16,
     "metadata": {},
     "output_type": "execute_result"
    }
   ],
   "source": [
    "est3=XGBRegressor(n_estimators=70,max_depth=3)\n",
    "est3.fit(X_new, train_y3)"
   ]
  },
  {
   "cell_type": "code",
   "execution_count": 17,
   "metadata": {
    "collapsed": true
   },
   "outputs": [],
   "source": [
    "with open('est33333.pkl','wb') as f:\n",
    "    pickle.dump(est3,f)"
   ]
  },
  {
   "cell_type": "code",
   "execution_count": 18,
   "metadata": {
    "collapsed": false
   },
   "outputs": [
    {
     "data": {
      "text/plain": [
       "XGBRegressor(base_score=0.5, colsample_bylevel=1, colsample_bytree=1, gamma=0,\n",
       "       learning_rate=0.1, max_delta_step=0, max_depth=3,\n",
       "       min_child_weight=1, missing=None, n_estimators=70, nthread=-1,\n",
       "       objective='reg:linear', reg_alpha=0, reg_lambda=1,\n",
       "       scale_pos_weight=1, seed=0, silent=True, subsample=1)"
      ]
     },
     "execution_count": 18,
     "metadata": {},
     "output_type": "execute_result"
    }
   ],
   "source": [
    "est4=XGBRegressor(n_estimators=70,max_depth=3)\n",
    "est4.fit(X_new, train_y4)"
   ]
  },
  {
   "cell_type": "code",
   "execution_count": 19,
   "metadata": {
    "collapsed": true
   },
   "outputs": [],
   "source": [
    "with open('est44444.pkl','wb') as f:\n",
    "    pickle.dump(est4,f)"
   ]
  },
  {
   "cell_type": "code",
   "execution_count": 20,
   "metadata": {
    "collapsed": false
   },
   "outputs": [
    {
     "data": {
      "text/plain": [
       "XGBRegressor(base_score=0.5, colsample_bylevel=1, colsample_bytree=1, gamma=0,\n",
       "       learning_rate=0.1, max_delta_step=0, max_depth=3,\n",
       "       min_child_weight=1, missing=None, n_estimators=70, nthread=-1,\n",
       "       objective='reg:linear', reg_alpha=0, reg_lambda=1,\n",
       "       scale_pos_weight=1, seed=0, silent=True, subsample=1)"
      ]
     },
     "execution_count": 20,
     "metadata": {},
     "output_type": "execute_result"
    }
   ],
   "source": [
    "est5=XGBRegressor(n_estimators=70,max_depth=3)\n",
    "est5.fit(X_new, train_y5)"
   ]
  },
  {
   "cell_type": "code",
   "execution_count": 21,
   "metadata": {
    "collapsed": true
   },
   "outputs": [],
   "source": [
    "with open('est55555.pkl','wb') as f:\n",
    "    pickle.dump(est5,f)"
   ]
  },
  {
   "cell_type": "code",
   "execution_count": 22,
   "metadata": {
    "collapsed": false
   },
   "outputs": [
    {
     "data": {
      "text/plain": [
       "XGBRegressor(base_score=0.5, colsample_bylevel=1, colsample_bytree=1, gamma=0,\n",
       "       learning_rate=0.1, max_delta_step=0, max_depth=3,\n",
       "       min_child_weight=1, missing=None, n_estimators=70, nthread=-1,\n",
       "       objective='reg:linear', reg_alpha=0, reg_lambda=1,\n",
       "       scale_pos_weight=1, seed=0, silent=True, subsample=1)"
      ]
     },
     "execution_count": 22,
     "metadata": {},
     "output_type": "execute_result"
    }
   ],
   "source": [
    "est6=XGBRegressor(n_estimators=70,max_depth=3)\n",
    "est6.fit(X_new, train_y6)"
   ]
  },
  {
   "cell_type": "code",
   "execution_count": 23,
   "metadata": {
    "collapsed": true
   },
   "outputs": [],
   "source": [
    "with open('est66666.pkl','wb') as f:\n",
    "    pickle.dump(est6,f)"
   ]
  },
  {
   "cell_type": "code",
   "execution_count": 47,
   "metadata": {
    "collapsed": false
   },
   "outputs": [],
   "source": [
    "train_subset=pd.read_pickle('train_subset_noy.pkl')"
   ]
  },
  {
   "cell_type": "markdown",
   "metadata": {},
   "source": [
    "Проверим на майских данных"
   ]
  },
  {
   "cell_type": "code",
   "execution_count": 140,
   "metadata": {
    "collapsed": false,
    "scrolled": true
   },
   "outputs": [
    {
     "data": {
      "text/html": [
       "<div>\n",
       "<table border=\"1\" class=\"dataframe\">\n",
       "  <thead>\n",
       "    <tr style=\"text-align: right;\">\n",
       "      <th></th>\n",
       "      <th>c1</th>\n",
       "      <th>c10</th>\n",
       "      <th>c11</th>\n",
       "      <th>c12</th>\n",
       "      <th>c13</th>\n",
       "      <th>c14</th>\n",
       "      <th>c15</th>\n",
       "      <th>c16</th>\n",
       "      <th>c17</th>\n",
       "      <th>c18</th>\n",
       "      <th>...</th>\n",
       "      <th>week</th>\n",
       "      <th>weekday</th>\n",
       "      <th>y</th>\n",
       "      <th>y1</th>\n",
       "      <th>y2</th>\n",
       "      <th>y3</th>\n",
       "      <th>y4</th>\n",
       "      <th>y5</th>\n",
       "      <th>y6</th>\n",
       "      <th>year</th>\n",
       "    </tr>\n",
       "  </thead>\n",
       "  <tbody>\n",
       "    <tr>\n",
       "      <th>2016-05-01 00:00:00</th>\n",
       "      <td>0.623490</td>\n",
       "      <td>-9.009689e-01</td>\n",
       "      <td>-0.900969</td>\n",
       "      <td>-0.222521</td>\n",
       "      <td>0.623490</td>\n",
       "      <td>1.000000e+00</td>\n",
       "      <td>0.623490</td>\n",
       "      <td>-0.222521</td>\n",
       "      <td>-0.900969</td>\n",
       "      <td>-9.009689e-01</td>\n",
       "      <td>...</td>\n",
       "      <td>6.0</td>\n",
       "      <td>6.0</td>\n",
       "      <td>71.0</td>\n",
       "      <td>37.0</td>\n",
       "      <td>10.0</td>\n",
       "      <td>14.0</td>\n",
       "      <td>6.0</td>\n",
       "      <td>8.0</td>\n",
       "      <td>10.0</td>\n",
       "      <td>2016.0</td>\n",
       "    </tr>\n",
       "    <tr>\n",
       "      <th>2016-05-01 01:00:00</th>\n",
       "      <td>0.652287</td>\n",
       "      <td>-6.801727e-01</td>\n",
       "      <td>-0.999301</td>\n",
       "      <td>-0.623490</td>\n",
       "      <td>0.185912</td>\n",
       "      <td>8.660254e-01</td>\n",
       "      <td>0.943883</td>\n",
       "      <td>0.365341</td>\n",
       "      <td>-0.467269</td>\n",
       "      <td>-9.749279e-01</td>\n",
       "      <td>...</td>\n",
       "      <td>6.0</td>\n",
       "      <td>6.0</td>\n",
       "      <td>37.0</td>\n",
       "      <td>10.0</td>\n",
       "      <td>14.0</td>\n",
       "      <td>6.0</td>\n",
       "      <td>8.0</td>\n",
       "      <td>10.0</td>\n",
       "      <td>21.0</td>\n",
       "      <td>2016.0</td>\n",
       "    </tr>\n",
       "    <tr>\n",
       "      <th>2016-05-01 02:00:00</th>\n",
       "      <td>0.680173</td>\n",
       "      <td>-3.653410e-01</td>\n",
       "      <td>-0.930874</td>\n",
       "      <td>-0.900969</td>\n",
       "      <td>-0.294755</td>\n",
       "      <td>5.000000e-01</td>\n",
       "      <td>0.974928</td>\n",
       "      <td>0.826239</td>\n",
       "      <td>0.149042</td>\n",
       "      <td>-6.234898e-01</td>\n",
       "      <td>...</td>\n",
       "      <td>6.0</td>\n",
       "      <td>6.0</td>\n",
       "      <td>10.0</td>\n",
       "      <td>14.0</td>\n",
       "      <td>6.0</td>\n",
       "      <td>8.0</td>\n",
       "      <td>10.0</td>\n",
       "      <td>21.0</td>\n",
       "      <td>17.0</td>\n",
       "      <td>2016.0</td>\n",
       "    </tr>\n",
       "    <tr>\n",
       "      <th>2016-05-01 03:00:00</th>\n",
       "      <td>0.707107</td>\n",
       "      <td>1.936025e-13</td>\n",
       "      <td>-0.707107</td>\n",
       "      <td>-1.000000</td>\n",
       "      <td>-0.707107</td>\n",
       "      <td>1.837038e-13</td>\n",
       "      <td>0.707107</td>\n",
       "      <td>1.000000</td>\n",
       "      <td>0.707107</td>\n",
       "      <td>-1.062628e-13</td>\n",
       "      <td>...</td>\n",
       "      <td>6.0</td>\n",
       "      <td>6.0</td>\n",
       "      <td>14.0</td>\n",
       "      <td>6.0</td>\n",
       "      <td>8.0</td>\n",
       "      <td>10.0</td>\n",
       "      <td>21.0</td>\n",
       "      <td>17.0</td>\n",
       "      <td>23.0</td>\n",
       "      <td>2016.0</td>\n",
       "    </tr>\n",
       "    <tr>\n",
       "      <th>2016-05-01 04:00:00</th>\n",
       "      <td>0.733052</td>\n",
       "      <td>3.653410e-01</td>\n",
       "      <td>-0.365341</td>\n",
       "      <td>-0.900969</td>\n",
       "      <td>-0.955573</td>\n",
       "      <td>-5.000000e-01</td>\n",
       "      <td>0.222521</td>\n",
       "      <td>0.826239</td>\n",
       "      <td>0.988831</td>\n",
       "      <td>6.234898e-01</td>\n",
       "      <td>...</td>\n",
       "      <td>6.0</td>\n",
       "      <td>6.0</td>\n",
       "      <td>6.0</td>\n",
       "      <td>8.0</td>\n",
       "      <td>10.0</td>\n",
       "      <td>21.0</td>\n",
       "      <td>17.0</td>\n",
       "      <td>23.0</td>\n",
       "      <td>51.0</td>\n",
       "      <td>2016.0</td>\n",
       "    </tr>\n",
       "  </tbody>\n",
       "</table>\n",
       "<p>5 rows × 106 columns</p>\n",
       "</div>"
      ],
      "text/plain": [
       "                           c1           c10       c11       c12       c13  \\\n",
       "2016-05-01 00:00:00  0.623490 -9.009689e-01 -0.900969 -0.222521  0.623490   \n",
       "2016-05-01 01:00:00  0.652287 -6.801727e-01 -0.999301 -0.623490  0.185912   \n",
       "2016-05-01 02:00:00  0.680173 -3.653410e-01 -0.930874 -0.900969 -0.294755   \n",
       "2016-05-01 03:00:00  0.707107  1.936025e-13 -0.707107 -1.000000 -0.707107   \n",
       "2016-05-01 04:00:00  0.733052  3.653410e-01 -0.365341 -0.900969 -0.955573   \n",
       "\n",
       "                              c14       c15       c16       c17           c18  \\\n",
       "2016-05-01 00:00:00  1.000000e+00  0.623490 -0.222521 -0.900969 -9.009689e-01   \n",
       "2016-05-01 01:00:00  8.660254e-01  0.943883  0.365341 -0.467269 -9.749279e-01   \n",
       "2016-05-01 02:00:00  5.000000e-01  0.974928  0.826239  0.149042 -6.234898e-01   \n",
       "2016-05-01 03:00:00  1.837038e-13  0.707107  1.000000  0.707107 -1.062628e-13   \n",
       "2016-05-01 04:00:00 -5.000000e-01  0.222521  0.826239  0.988831  6.234898e-01   \n",
       "\n",
       "                      ...    week  weekday     y    y1    y2    y3    y4  \\\n",
       "2016-05-01 00:00:00   ...     6.0      6.0  71.0  37.0  10.0  14.0   6.0   \n",
       "2016-05-01 01:00:00   ...     6.0      6.0  37.0  10.0  14.0   6.0   8.0   \n",
       "2016-05-01 02:00:00   ...     6.0      6.0  10.0  14.0   6.0   8.0  10.0   \n",
       "2016-05-01 03:00:00   ...     6.0      6.0  14.0   6.0   8.0  10.0  21.0   \n",
       "2016-05-01 04:00:00   ...     6.0      6.0   6.0   8.0  10.0  21.0  17.0   \n",
       "\n",
       "                       y5    y6    year  \n",
       "2016-05-01 00:00:00   8.0  10.0  2016.0  \n",
       "2016-05-01 01:00:00  10.0  21.0  2016.0  \n",
       "2016-05-01 02:00:00  21.0  17.0  2016.0  \n",
       "2016-05-01 03:00:00  17.0  23.0  2016.0  \n",
       "2016-05-01 04:00:00  23.0  51.0  2016.0  \n",
       "\n",
       "[5 rows x 106 columns]"
      ]
     },
     "execution_count": 140,
     "metadata": {},
     "output_type": "execute_result"
    }
   ],
   "source": [
    "test_may.head()"
   ]
  },
  {
   "cell_type": "code",
   "execution_count": 205,
   "metadata": {
    "collapsed": false
   },
   "outputs": [],
   "source": [
    "test_y1=test_may.y1.values\n",
    "test_y2=test_may.y2.values\n",
    "test_y3=test_may.y3.values\n",
    "test_y4=test_may.y4.values\n",
    "test_y5=test_may.y5.values\n",
    "test_y6=test_may.y6.values"
   ]
  },
  {
   "cell_type": "code",
   "execution_count": 275,
   "metadata": {
    "collapsed": false
   },
   "outputs": [
    {
     "name": "stderr",
     "output_type": "stream",
     "text": [
      "C:\\Program Files\\Anaconda2\\lib\\site-packages\\ipykernel\\__main__.py:1: SettingWithCopyWarning: \n",
      "A value is trying to be set on a copy of a slice from a DataFrame\n",
      "\n",
      "See the caveats in the documentation: http://pandas.pydata.org/pandas-docs/stable/indexing.html#indexing-view-versus-copy\n",
      "  if __name__ == '__main__':\n"
     ]
    }
   ],
   "source": [
    "test_may.drop(['y1','y2','y3','y4','y5','y6',],1,inplace=True)"
   ]
  },
  {
   "cell_type": "code",
   "execution_count": 292,
   "metadata": {
    "collapsed": false
   },
   "outputs": [],
   "source": [
    "test_may_new=est.transform(test_may.values)\n",
    "pr1=est1.predict(test_may_new)\n",
    "pr2=est2.predict(test_may_new)\n",
    "pr3=est3.predict(test_may_new)\n",
    "pr4=est4.predict(test_may_new)\n",
    "pr5=est5.predict(test_may_new)\n",
    "pr6=est6.predict(test_may_new)"
   ]
  },
  {
   "cell_type": "code",
   "execution_count": 293,
   "metadata": {
    "collapsed": false
   },
   "outputs": [],
   "source": [
    "ans=np.sum(np.abs(test_y1-pr1))+np.sum(np.abs(test_y2-pr2))+np.sum(np.abs(test_y3-pr3))+np.sum(np.abs(test_y4-pr4))+np.sum(np.abs(test_y5-pr5))+np.sum(np.abs(test_y6-pr6))"
   ]
  },
  {
   "cell_type": "code",
   "execution_count": 72,
   "metadata": {
    "collapsed": false
   },
   "outputs": [
    {
     "data": {
      "text/plain": [
       "35.34510559349273"
      ]
     },
     "execution_count": 72,
     "metadata": {},
     "output_type": "execute_result"
    }
   ],
   "source": [
    "float(ans)/102/739/6"
   ]
  },
  {
   "cell_type": "code",
   "execution_count": 226,
   "metadata": {
    "collapsed": false
   },
   "outputs": [
    {
     "data": {
      "text/plain": [
       "35.39898346024841"
      ]
     },
     "execution_count": 226,
     "metadata": {},
     "output_type": "execute_result"
    }
   ],
   "source": [
    "float(ans)/102/739/6"
   ]
  },
  {
   "cell_type": "code",
   "execution_count": 260,
   "metadata": {
    "collapsed": false
   },
   "outputs": [
    {
     "data": {
      "text/plain": [
       "36.21126997904262"
      ]
     },
     "execution_count": 260,
     "metadata": {},
     "output_type": "execute_result"
    }
   ],
   "source": [
    "float(ans)/102/739/6"
   ]
  },
  {
   "cell_type": "code",
   "execution_count": 294,
   "metadata": {
    "collapsed": false
   },
   "outputs": [
    {
     "data": {
      "text/plain": [
       "27.89353215816037"
      ]
     },
     "execution_count": 294,
     "metadata": {},
     "output_type": "execute_result"
    }
   ],
   "source": [
    "float(ans)/102/739/6"
   ]
  },
  {
   "cell_type": "markdown",
   "metadata": {},
   "source": [
    "Результат почти такой же, какой и был в SARIMAX. Увеличение числа признаков улучшает результат. Я взял  24 и 15 новых признаков соответственно. Дальше увеличивать их кол-во не стал."
   ]
  },
  {
   "cell_type": "code",
   "execution_count": 262,
   "metadata": {
    "collapsed": true
   },
   "outputs": [],
   "source": [
    "cls=[u'c1', u'c10', u'c11', u'c12', u'c13', u'c14', u'c15', u'c16',\n",
    "       u'c17', u'c18', u'c19', u'c2', u'c20', u'c21', u'c22', u'c23',\n",
    "       u'c24', u'c25', u'c26', u'c27', u'c28', u'c29', u'c3', u'c30',\n",
    "       u'c31', u'c32', u'c33', u'c34', u'c35', u'c4', u'c5', u'c6', u'c7',\n",
    "       u'c8', u'c9', u'day', u'hour', u'k1', u'k2', u'k3', u'k4', u'k5',\n",
    "       u'k6', u'kd1', u'kd2', u'month', u'new_year', u'reg', u's1',\n",
    "       u's10', u's11', u's12', u's13', u's14', u's15', u's16', u's17',\n",
    "       u's18', u's19', u's2', u's20', u's21', u's22', u's23', u's24',\n",
    "       u's25', u's26', u's27', u's28', u's29', u's3', u's30', u's31',\n",
    "       u's32', u's33', u's34', u's35', u's4', u's5', u's6', u's7', u's8',\n",
    "       u's9', u'sum12', u'sum168', u'sum24', u'sum720', u'week',\n",
    "       u'weekday', u'y1', u'y2', u'y3', u'y4', u'y5', u'y6', u'year','y','pr']"
   ]
  },
  {
   "cell_type": "code",
   "execution_count": 263,
   "metadata": {
    "collapsed": false
   },
   "outputs": [],
   "source": [
    "sins=[u'c1', u'c10', u'c11', u'c12', u'c13', u'c14', u'c15', u'c16',\n",
    "       u'c17', u'c18', u'c19', u'c2', u'c20', u'c21', u'c22', u'c23',\n",
    "       u'c24', u'c25', u'c26', u'c27', u'c28', u'c29', u'c3', u'c30',\n",
    "       u'c31', u'c32', u'c33', u'c34', u'c35', u'c4', u'c5', u'c6', u'c7',\n",
    "       u'c8', u'c9', u'new_year', u's1',\n",
    "       u's10', u's11', u's12', u's13', u's14', u's15', u's16', u's17',\n",
    "       u's18', u's19', u's2', u's20', u's21', u's22', u's23', u's24',\n",
    "       u's25', u's26', u's27', u's28', u's29', u's3', u's30', u's31',\n",
    "       u's32', u's33', u's34', u's35', u's4', u's5', u's6', u's7', u's8',\n",
    "       u's9', u'week']"
   ]
  },
  {
   "cell_type": "markdown",
   "metadata": {},
   "source": [
    "График с предсказанными значениями и с исходными для сравнения."
   ]
  },
  {
   "cell_type": "code",
   "execution_count": 230,
   "metadata": {
    "collapsed": false,
    "scrolled": false
   },
   "outputs": [
    {
     "data": {
      "text/plain": [
       "[<matplotlib.lines.Line2D at 0xaef8d978>]"
      ]
     },
     "execution_count": 230,
     "metadata": {},
     "output_type": "execute_result"
    },
    {
     "data": {
      "image/png": "[encoded data removed]",
      "text/plain": [
       "<matplotlib.figure.Figure at 0x6bf85cf8>"
      ]
     },
     "metadata": {},
     "output_type": "display_data"
    }
   ],
   "source": [
    "plt.plot(prla1)"
   ]
  },
  {
   "cell_type": "code",
   "execution_count": 73,
   "metadata": {
    "collapsed": false
   },
   "outputs": [
    {
     "data": {
      "text/plain": [
       "[<matplotlib.lines.Line2D at 0x12101dd8>]"
      ]
     },
     "execution_count": 73,
     "metadata": {},
     "output_type": "execute_result"
    },
    {
     "data": {
      "image/png": "[encoded data removed]",
      "text/plain": [
       "<matplotlib.figure.Figure at 0x126aa978>"
      ]
     },
     "metadata": {},
     "output_type": "display_data"
    }
   ],
   "source": [
    "plt.plot(test_y2)"
   ]
  },
  {
   "cell_type": "markdown",
   "metadata": {},
   "source": [
    "Спрогнозируем июнь"
   ]
  },
  {
   "cell_type": "code",
   "execution_count": 96,
   "metadata": {
    "collapsed": true
   },
   "outputs": [],
   "source": [
    "test_y1=test_june.y1.values\n",
    "test_y2=test_june.y2.values\n",
    "test_y3=test_june.y3.values\n",
    "test_y4=test_june.y4.values\n",
    "test_y5=test_june.y5.values\n",
    "test_y6=test_june.y6.values"
   ]
  },
  {
   "cell_type": "code",
   "execution_count": 8,
   "metadata": {
    "collapsed": false,
    "scrolled": false
   },
   "outputs": [
    {
     "name": "stderr",
     "output_type": "stream",
     "text": [
      "C:\\Program Files\\Anaconda2\\lib\\site-packages\\ipykernel\\__main__.py:1: SettingWithCopyWarning: \n",
      "A value is trying to be set on a copy of a slice from a DataFrame\n",
      "\n",
      "See the caveats in the documentation: http://pandas.pydata.org/pandas-docs/stable/indexing.html#indexing-view-versus-copy\n",
      "  if __name__ == '__main__':\n"
     ]
    }
   ],
   "source": [
    "test_june.drop(['y1','y2','y3','y4','y5','y6',],1,inplace=True)"
   ]
  },
  {
   "cell_type": "code",
   "execution_count": 24,
   "metadata": {
    "collapsed": false
   },
   "outputs": [],
   "source": [
    "test_june_new=est.transform(test_june.values)\n",
    "pr1=est1.predict(test_june_new)\n",
    "pr2=est2.predict(test_june_new)\n",
    "pr3=est3.predict(test_june_new)\n",
    "pr4=est4.predict(test_june_new)\n",
    "pr5=est5.predict(test_june_new)\n",
    "pr6=est6.predict(test_june_new)"
   ]
  },
  {
   "cell_type": "code",
   "execution_count": 25,
   "metadata": {
    "collapsed": false
   },
   "outputs": [],
   "source": [
    "test_june=train_subset_june"
   ]
  },
  {
   "cell_type": "code",
   "execution_count": 26,
   "metadata": {
    "collapsed": false
   },
   "outputs": [],
   "source": [
    "def get_ans(x):\n",
    "    return x['reg']+'_'+str(x['date'].date())+'_'+str((x['date'].hour))"
   ]
  },
  {
   "cell_type": "code",
   "execution_count": 27,
   "metadata": {
    "collapsed": false,
    "scrolled": true
   },
   "outputs": [
    {
     "name": "stderr",
     "output_type": "stream",
     "text": [
      "C:\\Program Files\\Anaconda2\\lib\\site-packages\\ipykernel\\__main__.py:1: SettingWithCopyWarning: \n",
      "A value is trying to be set on a copy of a slice from a DataFrame.\n",
      "Try using .loc[row_indexer,col_indexer] = value instead\n",
      "\n",
      "See the caveats in the documentation: http://pandas.pydata.org/pandas-docs/stable/indexing.html#indexing-view-versus-copy\n",
      "  if __name__ == '__main__':\n"
     ]
    }
   ],
   "source": [
    "test_june['date']=test_june.index"
   ]
  },
  {
   "cell_type": "code",
   "execution_count": 28,
   "metadata": {
    "collapsed": false,
    "scrolled": true
   },
   "outputs": [
    {
     "name": "stderr",
     "output_type": "stream",
     "text": [
      "C:\\Program Files\\Anaconda2\\lib\\site-packages\\ipykernel\\__main__.py:1: SettingWithCopyWarning: \n",
      "A value is trying to be set on a copy of a slice from a DataFrame.\n",
      "Try using .loc[row_indexer,col_indexer] = value instead\n",
      "\n",
      "See the caveats in the documentation: http://pandas.pydata.org/pandas-docs/stable/indexing.html#indexing-view-versus-copy\n",
      "  if __name__ == '__main__':\n"
     ]
    }
   ],
   "source": [
    "test_june['ans']=test_june.apply(get_ans,axis=1)"
   ]
  },
  {
   "cell_type": "code",
   "execution_count": 29,
   "metadata": {
    "collapsed": false
   },
   "outputs": [],
   "source": [
    "date=test_june['ans'].values"
   ]
  },
  {
   "cell_type": "code",
   "execution_count": 30,
   "metadata": {
    "collapsed": true
   },
   "outputs": [],
   "source": [
    "ans=pd.DataFrame(columns=['id','y'])"
   ]
  },
  {
   "cell_type": "code",
   "execution_count": 31,
   "metadata": {
    "collapsed": false
   },
   "outputs": [],
   "source": [
    "date1=[x+'_1' for x in date]\n",
    "date2=[x+'_2' for x in date]\n",
    "date3=[x+'_3' for x in date]\n",
    "date4=[x+'_4' for x in date]\n",
    "date5=[x+'_5' for x in date]\n",
    "date6=[x+'_6' for x in date]"
   ]
  },
  {
   "cell_type": "code",
   "execution_count": 32,
   "metadata": {
    "collapsed": false
   },
   "outputs": [],
   "source": [
    "ans1=pd.DataFrame(zip(date1,pr1),columns=['id','y'])\n",
    "ans2=pd.DataFrame(zip(date2,pr2),columns=['id','y'])\n",
    "ans3=pd.DataFrame(zip(date3,pr3),columns=['id','y'])\n",
    "ans4=pd.DataFrame(zip(date4,pr4),columns=['id','y'])\n",
    "ans5=pd.DataFrame(zip(date5,pr5),columns=['id','y'])\n",
    "ans6=pd.DataFrame(zip(date6,pr6),columns=['id','y'])"
   ]
  },
  {
   "cell_type": "code",
   "execution_count": null,
   "metadata": {
    "collapsed": true
   },
   "outputs": [],
   "source": [
    "ans=pd.concat((ans,ans1),axis=0)\n",
    "ans=pd.concat((ans,ans2),axis=0)\n",
    "ans=pd.concat((ans,ans3),axis=0)\n",
    "ans=pd.concat((ans,ans4),axis=0)\n",
    "ans=pd.concat((ans,ans5),axis=0)\n",
    "ans=pd.concat((ans,ans6),axis=0)"
   ]
  },
  {
   "cell_type": "code",
   "execution_count": 34,
   "metadata": {
    "collapsed": false,
    "scrolled": true
   },
   "outputs": [
    {
     "data": {
      "text/html": [
       "<div>\n",
       "<table border=\"1\" class=\"dataframe\">\n",
       "  <thead>\n",
       "    <tr style=\"text-align: right;\">\n",
       "      <th></th>\n",
       "      <th>id</th>\n",
       "      <th>y</th>\n",
       "    </tr>\n",
       "  </thead>\n",
       "  <tbody>\n",
       "    <tr>\n",
       "      <th>0</th>\n",
       "      <td>1075_2016-05-31_23_1</td>\n",
       "      <td>20.656727</td>\n",
       "    </tr>\n",
       "    <tr>\n",
       "      <th>1</th>\n",
       "      <td>1075_2016-06-01_0_1</td>\n",
       "      <td>15.432981</td>\n",
       "    </tr>\n",
       "    <tr>\n",
       "      <th>2</th>\n",
       "      <td>1075_2016-06-01_1_1</td>\n",
       "      <td>9.585618</td>\n",
       "    </tr>\n",
       "    <tr>\n",
       "      <th>3</th>\n",
       "      <td>1075_2016-06-01_2_1</td>\n",
       "      <td>6.487360</td>\n",
       "    </tr>\n",
       "    <tr>\n",
       "      <th>4</th>\n",
       "      <td>1075_2016-06-01_3_1</td>\n",
       "      <td>6.534386</td>\n",
       "    </tr>\n",
       "  </tbody>\n",
       "</table>\n",
       "</div>"
      ],
      "text/plain": [
       "                     id          y\n",
       "0  1075_2016-05-31_23_1  20.656727\n",
       "1   1075_2016-06-01_0_1  15.432981\n",
       "2   1075_2016-06-01_1_1   9.585618\n",
       "3   1075_2016-06-01_2_1   6.487360\n",
       "4   1075_2016-06-01_3_1   6.534386"
      ]
     },
     "execution_count": 34,
     "metadata": {},
     "output_type": "execute_result"
    }
   ],
   "source": [
    "ans.head()"
   ]
  },
  {
   "cell_type": "code",
   "execution_count": 35,
   "metadata": {
    "collapsed": true
   },
   "outputs": [],
   "source": [
    "ans.to_csv('taxi222.csv',index=False)"
   ]
  },
  {
   "cell_type": "markdown",
   "metadata": {
    "collapsed": true
   },
   "source": [
    "Результат получился почти такой же как и на прошлой неделе при использовании SARIMAX. - 26.12452 против 24.35303.\n",
    "Можно было бы еще увеличивать кол-во признаков, но я подожду следующей недели."
   ]
  },
  {
   "cell_type": "code",
   "execution_count": null,
   "metadata": {
    "collapsed": true
   },
   "outputs": [],
   "source": []
  }
 ],
 "metadata": {
  "anaconda-cloud": {},
  "kernelspec": {
   "display_name": "Python [default]",
   "language": "python",
   "name": "python2"
  },
  "language_info": {
   "codemirror_mode": {
    "name": "ipython",
    "version": 2
   },
   "file_extension": ".py",
   "mimetype": "text/x-python",
   "name": "python",
   "nbconvert_exporter": "python",
   "pygments_lexer": "ipython2",
   "version": "2.7.12"
  }
 },
 "nbformat": 4,
 "nbformat_minor": 1
}
