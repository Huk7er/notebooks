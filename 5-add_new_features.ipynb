{
 "cells": [
  {
   "cell_type": "code",
   "execution_count": 2,
   "metadata": {
    "ExecuteTime": {
     "end_time": "2017-03-17T10:26:44.797000",
     "start_time": "2017-03-17T10:26:26.665000"
    },
    "collapsed": false
   },
   "outputs": [
    {
     "name": "stdout",
     "output_type": "stream",
     "text": [
      "Populating the interactive namespace from numpy and matplotlib\n"
     ]
    },
    {
     "name": "stderr",
     "output_type": "stream",
     "text": [
      "C:\\Program Files\\Anaconda2\\lib\\site-packages\\sklearn\\cross_validation.py:44: DeprecationWarning: This module was deprecated in version 0.18 in favor of the model_selection module into which all the refactored classes and functions are moved. Also note that the interface of the new CV iterators are different from that of this module. This module will be removed in 0.20.\n",
      "  \"This module will be removed in 0.20.\", DeprecationWarning)\n"
     ]
    }
   ],
   "source": [
    "import numpy as np\n",
    "%pylab inline\n",
    "import pandas as pd\n",
    "import datetime\n",
    "import matplotlib.pyplot as plt\n",
    "%matplotlib inline\n",
    "import seaborn\n",
    "from scipy import stats\n",
    "import statsmodels.api as sm\n",
    "import statsmodels.formula.api as smf\n",
    "import matplotlib.pyplot as plt\n",
    "from sklearn.linear_model import LinearRegression, Lasso\n",
    "from itertools import product\n",
    "from sklearn.preprocessing import StandardScaler, MinMaxScaler\n",
    "from sklearn.cluster import KMeans\n",
    "from xgboost import XGBRegressor, XGBClassifier, Booster, plot_importance\n",
    "from sklearn.ensemble import GradientBoostingRegressor\n",
    "from sklearn.model_selection import GridSearchCV\n",
    "from sklearn.feature_extraction import DictVectorizer as DV\n",
    "from sklearn.preprocessing import StandardScaler, LabelEncoder, OneHotEncoder\n",
    "from sklearn.linear_model import RidgeClassifier, RandomizedLasso, Ridge"
   ]
  },
  {
   "cell_type": "markdown",
   "metadata": {},
   "source": [
    "Модель прошлой недели"
   ]
  },
  {
   "cell_type": "code",
   "execution_count": 4,
   "metadata": {
    "collapsed": true
   },
   "outputs": [],
   "source": [
    "total=pd.read_pickle('taxi_features_data.pkl')"
   ]
  },
  {
   "cell_type": "code",
   "execution_count": 8,
   "metadata": {
    "collapsed": false
   },
   "outputs": [
    {
     "name": "stderr",
     "output_type": "stream",
     "text": [
      "C:\\Program Files\\Anaconda2\\lib\\site-packages\\ipykernel\\__main__.py:8: SettingWithCopyWarning: \n",
      "A value is trying to be set on a copy of a slice from a DataFrame\n",
      "\n",
      "See the caveats in the documentation: http://pandas.pydata.org/pandas-docs/stable/indexing.html#indexing-view-versus-copy\n"
     ]
    }
   ],
   "source": [
    "train_subset=total[:\"2016-04-30 23:00:00\"]\n",
    "train_y1=train_subset.y1.values\n",
    "train_y2=train_subset.y2.values\n",
    "train_y3=train_subset.y3.values\n",
    "train_y4=train_subset.y4.values\n",
    "train_y5=train_subset.y5.values\n",
    "train_y6=train_subset.y6.values\n",
    "train_subset.drop(['y1','y2','y3','y4','y5','y6',],1,inplace=True)"
   ]
  },
  {
   "cell_type": "code",
   "execution_count": 9,
   "metadata": {
    "collapsed": false
   },
   "outputs": [
    {
     "name": "stderr",
     "output_type": "stream",
     "text": [
      "C:\\Program Files\\Anaconda2\\lib\\site-packages\\ipykernel\\__main__.py:8: SettingWithCopyWarning: \n",
      "A value is trying to be set on a copy of a slice from a DataFrame\n",
      "\n",
      "See the caveats in the documentation: http://pandas.pydata.org/pandas-docs/stable/indexing.html#indexing-view-versus-copy\n"
     ]
    }
   ],
   "source": [
    "test_may=total[\"2016-05-01 00:00:00\":\"2016-05-31 23:00:00\"]\n",
    "test_y1=test_may.y1.values\n",
    "test_y2=test_may.y2.values\n",
    "test_y3=test_may.y3.values\n",
    "test_y4=test_may.y4.values\n",
    "test_y5=test_may.y5.values\n",
    "test_y6=test_may.y6.values\n",
    "test_may.drop(['y1','y2','y3','y4','y5','y6',],1,inplace=True)"
   ]
  },
  {
   "cell_type": "code",
   "execution_count": 10,
   "metadata": {
    "collapsed": true
   },
   "outputs": [],
   "source": [
    "dum1=pd.get_dummies(train_subset.reg)\n",
    "dum3=pd.get_dummies(test_may.reg)\n",
    "train_subset=pd.concat((train_subset,dum1),axis=1)\n",
    "test_may=pd.concat((test_may,dum3),axis=1)\n",
    "train_subset.drop('reg',1,inplace=True)\n",
    "test_may.drop('reg',1,inplace=True)"
   ]
  },
  {
   "cell_type": "code",
   "execution_count": 11,
   "metadata": {
    "collapsed": false
   },
   "outputs": [
    {
     "name": "stderr",
     "output_type": "stream",
     "text": [
      "C:\\Program Files\\Anaconda2\\lib\\site-packages\\sklearn\\linear_model\\least_angle.py:309: ConvergenceWarning: Regressors in active set degenerate. Dropping a regressor, after 29 iterations, i.e. alpha=2.172e-03, with an active set of 29 regressors, and the smallest cholesky pivot element being 2.980e-08\n",
      "  ConvergenceWarning)\n",
      "C:\\Program Files\\Anaconda2\\lib\\site-packages\\sklearn\\linear_model\\least_angle.py:309: ConvergenceWarning: Regressors in active set degenerate. Dropping a regressor, after 29 iterations, i.e. alpha=2.172e-03, with an active set of 29 regressors, and the smallest cholesky pivot element being 1.490e-08\n",
      "  ConvergenceWarning)\n",
      "C:\\Program Files\\Anaconda2\\lib\\site-packages\\sklearn\\linear_model\\least_angle.py:309: ConvergenceWarning: Regressors in active set degenerate. Dropping a regressor, after 55 iterations, i.e. alpha=1.086e-03, with an active set of 51 regressors, and the smallest cholesky pivot element being 2.581e-08\n",
      "  ConvergenceWarning)\n",
      "C:\\Program Files\\Anaconda2\\lib\\site-packages\\sklearn\\linear_model\\least_angle.py:309: ConvergenceWarning: Regressors in active set degenerate. Dropping a regressor, after 94 iterations, i.e. alpha=2.879e-04, with an active set of 86 regressors, and the smallest cholesky pivot element being 1.490e-08\n",
      "  ConvergenceWarning)\n",
      "C:\\Program Files\\Anaconda2\\lib\\site-packages\\sklearn\\linear_model\\least_angle.py:334: ConvergenceWarning: Early stopping the lars path, as the residues are small and the current value of alpha is no longer well controlled. 96 iterations, alpha=2.662e-04, previous alpha=2.639e-04, with an active set of 87 regressors.\n",
      "  ConvergenceWarning)\n"
     ]
    },
    {
     "data": {
      "text/plain": [
       "XGBRegressor(base_score=0.5, colsample_bylevel=1, colsample_bytree=1, gamma=0,\n",
       "       learning_rate=0.1, max_delta_step=0, max_depth=3,\n",
       "       min_child_weight=1, missing=None, n_estimators=70, nthread=-1,\n",
       "       objective='reg:linear', reg_alpha=0, reg_lambda=1,\n",
       "       scale_pos_weight=1, seed=0, silent=True, subsample=1)"
      ]
     },
     "execution_count": 11,
     "metadata": {},
     "output_type": "execute_result"
    }
   ],
   "source": [
    "est=RandomizedLasso()\n",
    "X_new=est.fit_transform(train_subset.values, train_y1)\n",
    "est1=XGBRegressor(n_estimators=70,max_depth=3)\n",
    "est1.fit(X_new, train_y1)"
   ]
  },
  {
   "cell_type": "code",
   "execution_count": 12,
   "metadata": {
    "collapsed": false
   },
   "outputs": [
    {
     "data": {
      "text/plain": [
       "XGBRegressor(base_score=0.5, colsample_bylevel=1, colsample_bytree=1, gamma=0,\n",
       "       learning_rate=0.1, max_delta_step=0, max_depth=3,\n",
       "       min_child_weight=1, missing=None, n_estimators=70, nthread=-1,\n",
       "       objective='reg:linear', reg_alpha=0, reg_lambda=1,\n",
       "       scale_pos_weight=1, seed=0, silent=True, subsample=1)"
      ]
     },
     "execution_count": 12,
     "metadata": {},
     "output_type": "execute_result"
    }
   ],
   "source": [
    "est2=XGBRegressor(n_estimators=70,max_depth=3)\n",
    "est2.fit(X_new, train_y2)"
   ]
  },
  {
   "cell_type": "code",
   "execution_count": 13,
   "metadata": {
    "collapsed": false
   },
   "outputs": [
    {
     "data": {
      "text/plain": [
       "XGBRegressor(base_score=0.5, colsample_bylevel=1, colsample_bytree=1, gamma=0,\n",
       "       learning_rate=0.1, max_delta_step=0, max_depth=3,\n",
       "       min_child_weight=1, missing=None, n_estimators=70, nthread=-1,\n",
       "       objective='reg:linear', reg_alpha=0, reg_lambda=1,\n",
       "       scale_pos_weight=1, seed=0, silent=True, subsample=1)"
      ]
     },
     "execution_count": 13,
     "metadata": {},
     "output_type": "execute_result"
    }
   ],
   "source": [
    "est3=XGBRegressor(n_estimators=70,max_depth=3)\n",
    "est3.fit(X_new, train_y3)"
   ]
  },
  {
   "cell_type": "code",
   "execution_count": 14,
   "metadata": {
    "collapsed": false
   },
   "outputs": [
    {
     "data": {
      "text/plain": [
       "XGBRegressor(base_score=0.5, colsample_bylevel=1, colsample_bytree=1, gamma=0,\n",
       "       learning_rate=0.1, max_delta_step=0, max_depth=3,\n",
       "       min_child_weight=1, missing=None, n_estimators=70, nthread=-1,\n",
       "       objective='reg:linear', reg_alpha=0, reg_lambda=1,\n",
       "       scale_pos_weight=1, seed=0, silent=True, subsample=1)"
      ]
     },
     "execution_count": 14,
     "metadata": {},
     "output_type": "execute_result"
    }
   ],
   "source": [
    "est4=XGBRegressor(n_estimators=70,max_depth=3)\n",
    "est4.fit(X_new, train_y4)"
   ]
  },
  {
   "cell_type": "code",
   "execution_count": 15,
   "metadata": {
    "collapsed": false
   },
   "outputs": [
    {
     "data": {
      "text/plain": [
       "XGBRegressor(base_score=0.5, colsample_bylevel=1, colsample_bytree=1, gamma=0,\n",
       "       learning_rate=0.1, max_delta_step=0, max_depth=3,\n",
       "       min_child_weight=1, missing=None, n_estimators=70, nthread=-1,\n",
       "       objective='reg:linear', reg_alpha=0, reg_lambda=1,\n",
       "       scale_pos_weight=1, seed=0, silent=True, subsample=1)"
      ]
     },
     "execution_count": 15,
     "metadata": {},
     "output_type": "execute_result"
    }
   ],
   "source": [
    "est5=XGBRegressor(n_estimators=70,max_depth=3)\n",
    "est5.fit(X_new, train_y5)"
   ]
  },
  {
   "cell_type": "code",
   "execution_count": 16,
   "metadata": {
    "collapsed": false
   },
   "outputs": [
    {
     "data": {
      "text/plain": [
       "XGBRegressor(base_score=0.5, colsample_bylevel=1, colsample_bytree=1, gamma=0,\n",
       "       learning_rate=0.1, max_delta_step=0, max_depth=3,\n",
       "       min_child_weight=1, missing=None, n_estimators=70, nthread=-1,\n",
       "       objective='reg:linear', reg_alpha=0, reg_lambda=1,\n",
       "       scale_pos_weight=1, seed=0, silent=True, subsample=1)"
      ]
     },
     "execution_count": 16,
     "metadata": {},
     "output_type": "execute_result"
    }
   ],
   "source": [
    "est6=XGBRegressor(n_estimators=70,max_depth=3)\n",
    "est6.fit(X_new, train_y6)"
   ]
  },
  {
   "cell_type": "code",
   "execution_count": 17,
   "metadata": {
    "collapsed": true
   },
   "outputs": [],
   "source": [
    "test_may_new=est.transform(test_may.values)\n",
    "pr1=est1.predict(test_may_new)\n",
    "pr2=est2.predict(test_may_new)\n",
    "pr3=est3.predict(test_may_new)\n",
    "pr4=est4.predict(test_may_new)\n",
    "pr5=est5.predict(test_may_new)\n",
    "pr6=est6.predict(test_may_new)"
   ]
  },
  {
   "cell_type": "code",
   "execution_count": 18,
   "metadata": {
    "collapsed": false
   },
   "outputs": [
    {
     "data": {
      "text/plain": [
       "27.97101043731502"
      ]
     },
     "execution_count": 18,
     "metadata": {},
     "output_type": "execute_result"
    }
   ],
   "source": [
    "ans=np.sum(np.abs(test_y1-pr1))+np.sum(np.abs(test_y2-pr2))+np.sum(np.abs(test_y3-pr3))+np.sum(np.abs(test_y4-pr4))+np.sum(np.abs(test_y5-pr5))+np.sum(np.abs(test_y6-pr6))\n",
    "float(ans)/102/739/6"
   ]
  },
  {
   "cell_type": "markdown",
   "metadata": {},
   "source": [
    "Добавим признаки:\n",
    "1. Метка ночного времени для зон, относящихся к аэропорту.\n",
    "2. Кол-во поездок из соседних зон за час, день, неделю.\n",
    "3. Метка праздников США."
   ]
  },
  {
   "cell_type": "code",
   "execution_count": 115,
   "metadata": {
    "collapsed": false
   },
   "outputs": [
    {
     "data": {
      "text/plain": [
       "array(['2068', '2069', '2118', '2119', '2168'], dtype=object)"
      ]
     },
     "execution_count": 115,
     "metadata": {},
     "output_type": "execute_result"
    }
   ],
   "source": [
    "airport=np.unique(total.reg.values)[-5:]"
   ]
  },
  {
   "cell_type": "code",
   "execution_count": 199,
   "metadata": {
    "collapsed": false
   },
   "outputs": [
    {
     "data": {
      "text/plain": [
       "<matplotlib.axes._subplots.AxesSubplot at 0x103ec8cf8>"
      ]
     },
     "execution_count": 199,
     "metadata": {},
     "output_type": "execute_result"
    },
    {
     "data": {
      "image/png": "[encoded data removed]",
      "text/plain": [
       "<matplotlib.figure.Figure at 0xf89de240>"
      ]
     },
     "metadata": {},
     "output_type": "display_data"
    }
   ],
   "source": []
  },
  {
   "cell_type": "code",
   "execution_count": 171,
   "metadata": {
    "collapsed": false
   },
   "outputs": [
    {
     "data": {
      "text/plain": [
       "715"
      ]
     },
     "execution_count": 171,
     "metadata": {},
     "output_type": "execute_result"
    }
   ],
   "source": [
    "len(pr1)/102"
   ]
  },
  {
   "cell_type": "code",
   "execution_count": 95,
   "metadata": {
    "collapsed": false,
    "scrolled": true
   },
   "outputs": [
    {
     "name": "stderr",
     "output_type": "stream",
     "text": [
      "C:\\Program Files\\Anaconda2\\lib\\site-packages\\ipykernel\\__main__.py:3: SettingWithCopyWarning: \n",
      "A value is trying to be set on a copy of a slice from a DataFrame\n",
      "\n",
      "See the caveats in the documentation: http://pandas.pydata.org/pandas-docs/stable/indexing.html#indexing-view-versus-copy\n",
      "  app.launch_new_instance()\n",
      "C:\\Program Files\\Anaconda2\\lib\\site-packages\\ipykernel\\__main__.py:7: SettingWithCopyWarning: \n",
      "A value is trying to be set on a copy of a slice from a DataFrame\n",
      "\n",
      "See the caveats in the documentation: http://pandas.pydata.org/pandas-docs/stable/indexing.html#indexing-view-versus-copy\n",
      "C:\\Program Files\\Anaconda2\\lib\\site-packages\\ipykernel\\__main__.py:9: SettingWithCopyWarning: \n",
      "A value is trying to be set on a copy of a slice from a DataFrame\n",
      "\n",
      "See the caveats in the documentation: http://pandas.pydata.org/pandas-docs/stable/indexing.html#indexing-view-versus-copy\n",
      "C:\\Program Files\\Anaconda2\\lib\\site-packages\\ipykernel\\__main__.py:11: SettingWithCopyWarning: \n",
      "A value is trying to be set on a copy of a slice from a DataFrame\n",
      "\n",
      "See the caveats in the documentation: http://pandas.pydata.org/pandas-docs/stable/indexing.html#indexing-view-versus-copy\n",
      "C:\\Program Files\\Anaconda2\\lib\\site-packages\\ipykernel\\__main__.py:13: SettingWithCopyWarning: \n",
      "A value is trying to be set on a copy of a slice from a DataFrame\n",
      "\n",
      "See the caveats in the documentation: http://pandas.pydata.org/pandas-docs/stable/indexing.html#indexing-view-versus-copy\n",
      "C:\\Program Files\\Anaconda2\\lib\\site-packages\\ipykernel\\__main__.py:15: SettingWithCopyWarning: \n",
      "A value is trying to be set on a copy of a slice from a DataFrame\n",
      "\n",
      "See the caveats in the documentation: http://pandas.pydata.org/pandas-docs/stable/indexing.html#indexing-view-versus-copy\n",
      "C:\\Program Files\\Anaconda2\\lib\\site-packages\\ipykernel\\__main__.py:17: SettingWithCopyWarning: \n",
      "A value is trying to be set on a copy of a slice from a DataFrame\n",
      "\n",
      "See the caveats in the documentation: http://pandas.pydata.org/pandas-docs/stable/indexing.html#indexing-view-versus-copy\n",
      "C:\\Program Files\\Anaconda2\\lib\\site-packages\\ipykernel\\__main__.py:18: SettingWithCopyWarning: \n",
      "A value is trying to be set on a copy of a slice from a DataFrame\n",
      "\n",
      "See the caveats in the documentation: http://pandas.pydata.org/pandas-docs/stable/indexing.html#indexing-view-versus-copy\n",
      "C:\\Program Files\\Anaconda2\\lib\\site-packages\\ipykernel\\__main__.py:20: SettingWithCopyWarning: \n",
      "A value is trying to be set on a copy of a slice from a DataFrame\n",
      "\n",
      "See the caveats in the documentation: http://pandas.pydata.org/pandas-docs/stable/indexing.html#indexing-view-versus-copy\n"
     ]
    }
   ],
   "source": [
    "#Метель 23 января\n",
    "total['blizzard']=0\n",
    "total['blizzard'][(total.index.month == 1)&(total.index.day == 23)]=1\n",
    "#В праздники заказы такси как в выходной день, поэтому все праздники объединим в один признак\n",
    "total['holidays']=0\n",
    "#День Мартина Лютера Кинга\n",
    "total['holidays'][(total.index.month == 1)&(total.index.day == 18)]=1\n",
    "#Президентский день\n",
    "total['holidays'][(total.index.month == 2)&(total.index.day == 15)]=1\n",
    "#День памяти\n",
    "total['holidays'][(total.index.month == 5)&(total.index.day == 30)]=1\n",
    "#День независимости\n",
    "total['holidays'][(total.index.month == 7)&(total.index.day == 3)]=1\n",
    "#День Труда\n",
    "total['holidays'][(total.index.month == 9)&(total.index.day == 7)]=1\n",
    "#День благодарения\n",
    "total['holidays'][(total.index.month == 11)&(total.index.day == 26)]=1\n",
    "total['holidays'][(total.index.month == 11)&(total.index.day == 27)]=1\n",
    "#Рождество\n",
    "total['holidays'][(total.index.month == 12)&(total.index.day == 25)]=1"
   ]
  },
  {
   "cell_type": "code",
   "execution_count": 7,
   "metadata": {
    "collapsed": false
   },
   "outputs": [
    {
     "name": "stderr",
     "output_type": "stream",
     "text": [
      "C:\\Program Files\\Anaconda2\\lib\\site-packages\\ipykernel\\__main__.py:2: SettingWithCopyWarning: \n",
      "A value is trying to be set on a copy of a slice from a DataFrame\n",
      "\n",
      "See the caveats in the documentation: http://pandas.pydata.org/pandas-docs/stable/indexing.html#indexing-view-versus-copy\n",
      "  from ipykernel import kernelapp as app\n",
      "C:\\Program Files\\Anaconda2\\lib\\site-packages\\ipykernel\\__main__.py:3: SettingWithCopyWarning: \n",
      "A value is trying to be set on a copy of a slice from a DataFrame\n",
      "\n",
      "See the caveats in the documentation: http://pandas.pydata.org/pandas-docs/stable/indexing.html#indexing-view-versus-copy\n",
      "  app.launch_new_instance()\n",
      "C:\\Program Files\\Anaconda2\\lib\\site-packages\\ipykernel\\__main__.py:4: SettingWithCopyWarning: \n",
      "A value is trying to be set on a copy of a slice from a DataFrame\n",
      "\n",
      "See the caveats in the documentation: http://pandas.pydata.org/pandas-docs/stable/indexing.html#indexing-view-versus-copy\n",
      "C:\\Program Files\\Anaconda2\\lib\\site-packages\\ipykernel\\__main__.py:5: SettingWithCopyWarning: \n",
      "A value is trying to be set on a copy of a slice from a DataFrame\n",
      "\n",
      "See the caveats in the documentation: http://pandas.pydata.org/pandas-docs/stable/indexing.html#indexing-view-versus-copy\n",
      "C:\\Program Files\\Anaconda2\\lib\\site-packages\\ipykernel\\__main__.py:6: SettingWithCopyWarning: \n",
      "A value is trying to be set on a copy of a slice from a DataFrame\n",
      "\n",
      "See the caveats in the documentation: http://pandas.pydata.org/pandas-docs/stable/indexing.html#indexing-view-versus-copy\n"
     ]
    }
   ],
   "source": [
    "total['air']=0\n",
    "total['air'][(total.reg == airport[0])&(total.index.hour <6)]=1\n",
    "total['air'][(total.reg == airport[1])&(total.index.hour <6)]=1\n",
    "total['air'][(total.reg == airport[2])&(total.index.hour <6)]=1\n",
    "total['air'][(total.reg == airport[3])&(total.index.hour <6)]=1\n",
    "total['air'][(total.reg == airport[4])&(total.index.hour <6)]=1"
   ]
  },
  {
   "cell_type": "code",
   "execution_count": 96,
   "metadata": {
    "collapsed": false
   },
   "outputs": [],
   "source": [
    "total.to_pickle('taxi_new_features_data_holidays.pkl')"
   ]
  },
  {
   "cell_type": "code",
   "execution_count": 59,
   "metadata": {
    "collapsed": false
   },
   "outputs": [],
   "source": [
    "def neighbour_reg(x,delay=1):\n",
    "    reg=int(x['reg'])\n",
    "    data=x.index\n",
    "    neib=[reg+1,reg-1,reg+50,reg-50]\n",
    "    pr_data=data-relativedelta(hours=delay)\n",
    "    f=[]\n",
    "    for i in neib:\n",
    "        try:\n",
    "            y=total['y'][(total.reg==str(i))&(total.index==pr_data)]\n",
    "            f.append(y)\n",
    "        except:\n",
    "            continue\n",
    "    if len(y)==0:\n",
    "        return 0\n",
    "    else:\n",
    "        return np.mean(y)"
   ]
  },
  {
   "cell_type": "code",
   "execution_count": 88,
   "metadata": {
    "collapsed": false
   },
   "outputs": [],
   "source": [
    "k=1\n",
    "row=np.array([])\n",
    "for reg in total.reg.unique():\n",
    "    neib={str(int(reg)+1),str(int(reg)-1),str(int(reg)+50),str(int(reg)-50)}&set(total.reg.unique())\n",
    "    if len(neib)==0:\n",
    "        v=np.append(np.zeros(k),total.y[total.reg==reg].values[:-k])\n",
    "        row=np.append(row,v)\n",
    "        continue\n",
    "    for n in neib:\n",
    "        v=np.zeros(9504)\n",
    "        v+=np.append(np.zeros(k),total.y[total.reg==str(n)].values[:-k])\n",
    "    v=v/len(neib)\n",
    "    row=np.append(row,v)\n",
    "total['neibh_1h']=row"
   ]
  },
  {
   "cell_type": "code",
   "execution_count": 92,
   "metadata": {
    "collapsed": false
   },
   "outputs": [],
   "source": [
    "k=24\n",
    "row=np.array([])\n",
    "for reg in total.reg.unique():\n",
    "    neib={str(int(reg)+1),str(int(reg)-1),str(int(reg)+50),str(int(reg)-50)}&set(total.reg.unique())\n",
    "    if len(neib)==0:\n",
    "        v=np.append(np.zeros(k),total.y[total.reg==reg].values[:-k])\n",
    "        row=np.append(row,v)\n",
    "        continue\n",
    "    for n in neib:\n",
    "        v=np.zeros(9504)\n",
    "        v+=np.append(np.zeros(k),total.y[total.reg==str(n)].values[:-k])\n",
    "    v=v/len(neib)\n",
    "    row=np.append(row,v)\n",
    "total['neibh_24h']=row"
   ]
  },
  {
   "cell_type": "code",
   "execution_count": 94,
   "metadata": {
    "collapsed": false
   },
   "outputs": [],
   "source": [
    "k=168\n",
    "row=np.array([])\n",
    "for reg in total.reg.unique():\n",
    "    neib={str(int(reg)+1),str(int(reg)-1),str(int(reg)+50),str(int(reg)-50)}&set(total.reg.unique())\n",
    "    if len(neib)==0:\n",
    "        v=np.append(np.zeros(k),total.y[total.reg==reg].values[:-k])\n",
    "        row=np.append(row,v)\n",
    "        continue\n",
    "    for n in neib:\n",
    "        v=np.zeros(9504)\n",
    "        v+=np.append(np.zeros(k),total.y[total.reg==str(n)].values[:-k])\n",
    "    v=v/len(neib)\n",
    "    row=np.append(row,v)\n",
    "total['neibh_168h']=row"
   ]
  },
  {
   "cell_type": "code",
   "execution_count": 200,
   "metadata": {
    "collapsed": true
   },
   "outputs": [],
   "source": [
    "k=672\n",
    "row=np.array([])\n",
    "for reg in total.reg.unique():\n",
    "    neib={str(int(reg)+1),str(int(reg)-1),str(int(reg)+50),str(int(reg)-50)}&set(total.reg.unique())\n",
    "    if len(neib)==0:\n",
    "        v=np.append(np.zeros(k),total.y[total.reg==reg].values[:-k])\n",
    "        row=np.append(row,v)\n",
    "        continue\n",
    "    for n in neib:\n",
    "        v=np.zeros(9504)\n",
    "        v+=np.append(np.zeros(k),total.y[total.reg==str(n)].values[:-k])\n",
    "    v=v/len(neib)\n",
    "    row=np.append(row,v)\n",
    "total['neibh_672h']=row"
   ]
  },
  {
   "cell_type": "code",
   "execution_count": 287,
   "metadata": {
    "collapsed": true
   },
   "outputs": [],
   "source": [
    "total.drop('neibh_672h',1,inplace=True)"
   ]
  },
  {
   "cell_type": "code",
   "execution_count": 288,
   "metadata": {
    "collapsed": false
   },
   "outputs": [],
   "source": [
    "total.to_pickle('taxi_new_features_data_holidays.pkl')"
   ]
  },
  {
   "cell_type": "code",
   "execution_count": 2,
   "metadata": {
    "collapsed": false,
    "scrolled": true
   },
   "outputs": [],
   "source": [
    "total=pd.read_pickle('taxi_new_features_data_holidays.pkl')"
   ]
  },
  {
   "cell_type": "markdown",
   "metadata": {},
   "source": [
    "Добавим признаков из сырых данных: среднее кол-во пассажиров, дистанция поездки, тип оплаты, общий счет, время поездки."
   ]
  },
  {
   "cell_type": "code",
   "execution_count": 3,
   "metadata": {
    "collapsed": false
   },
   "outputs": [
    {
     "data": {
      "text/html": [
       "<div>\n",
       "<table border=\"1\" class=\"dataframe\">\n",
       "  <thead>\n",
       "    <tr style=\"text-align: right;\">\n",
       "      <th></th>\n",
       "      <th>passenger_count</th>\n",
       "      <th>trip_distance</th>\n",
       "      <th>payment_type</th>\n",
       "      <th>total_amount</th>\n",
       "      <th>time</th>\n",
       "      <th>reg</th>\n",
       "    </tr>\n",
       "  </thead>\n",
       "  <tbody>\n",
       "    <tr>\n",
       "      <th>2015-06-01 00:00:00</th>\n",
       "      <td>2.075000</td>\n",
       "      <td>3.943750</td>\n",
       "      <td>1.425000</td>\n",
       "      <td>17.367750</td>\n",
       "      <td>661.375000</td>\n",
       "      <td>1075</td>\n",
       "    </tr>\n",
       "    <tr>\n",
       "      <th>2015-06-01 01:00:00</th>\n",
       "      <td>1.882353</td>\n",
       "      <td>6.298235</td>\n",
       "      <td>1.294118</td>\n",
       "      <td>23.553529</td>\n",
       "      <td>978.411765</td>\n",
       "      <td>1075</td>\n",
       "    </tr>\n",
       "    <tr>\n",
       "      <th>2015-06-01 02:00:00</th>\n",
       "      <td>1.000000</td>\n",
       "      <td>7.920000</td>\n",
       "      <td>1.800000</td>\n",
       "      <td>26.110000</td>\n",
       "      <td>982.000000</td>\n",
       "      <td>1075</td>\n",
       "    </tr>\n",
       "    <tr>\n",
       "      <th>2015-06-01 03:00:00</th>\n",
       "      <td>2.200000</td>\n",
       "      <td>9.384000</td>\n",
       "      <td>1.200000</td>\n",
       "      <td>33.660000</td>\n",
       "      <td>1041.200000</td>\n",
       "      <td>1075</td>\n",
       "    </tr>\n",
       "    <tr>\n",
       "      <th>2015-06-01 04:00:00</th>\n",
       "      <td>2.125000</td>\n",
       "      <td>6.648750</td>\n",
       "      <td>1.250000</td>\n",
       "      <td>25.496250</td>\n",
       "      <td>923.000000</td>\n",
       "      <td>1075</td>\n",
       "    </tr>\n",
       "  </tbody>\n",
       "</table>\n",
       "</div>"
      ],
      "text/plain": [
       "                     passenger_count  trip_distance  payment_type  \\\n",
       "2015-06-01 00:00:00         2.075000       3.943750      1.425000   \n",
       "2015-06-01 01:00:00         1.882353       6.298235      1.294118   \n",
       "2015-06-01 02:00:00         1.000000       7.920000      1.800000   \n",
       "2015-06-01 03:00:00         2.200000       9.384000      1.200000   \n",
       "2015-06-01 04:00:00         2.125000       6.648750      1.250000   \n",
       "\n",
       "                     total_amount         time   reg  \n",
       "2015-06-01 00:00:00     17.367750   661.375000  1075  \n",
       "2015-06-01 01:00:00     23.553529   978.411765  1075  \n",
       "2015-06-01 02:00:00     26.110000   982.000000  1075  \n",
       "2015-06-01 03:00:00     33.660000  1041.200000  1075  \n",
       "2015-06-01 04:00:00     25.496250   923.000000  1075  "
      ]
     },
     "execution_count": 3,
     "metadata": {},
     "output_type": "execute_result"
    }
   ],
   "source": [
    "add=pd.read_pickle('additional_new_features.pkl')\n",
    "add.head()"
   ]
  },
  {
   "cell_type": "code",
   "execution_count": 146,
   "metadata": {
    "collapsed": false
   },
   "outputs": [],
   "source": [
    "total.to_pickle('finish_features_transf.pkl')"
   ]
  },
  {
   "cell_type": "code",
   "execution_count": 3,
   "metadata": {
    "ExecuteTime": {
     "end_time": "2017-03-17T10:26:55.728000",
     "start_time": "2017-03-17T10:26:44.801000"
    },
    "collapsed": false
   },
   "outputs": [],
   "source": [
    "total=pd.read_pickle('finish_features.pkl')"
   ]
  },
  {
   "cell_type": "code",
   "execution_count": 33,
   "metadata": {
    "collapsed": true
   },
   "outputs": [
    {
     "name": "stdout",
     "output_type": "stream",
     "text": [
      "1075\n",
      "1076\n",
      "1077\n",
      "1125\n",
      "1126\n",
      "1127\n",
      "1128\n",
      "1129\n",
      "1130\n",
      "1131\n",
      "1132\n",
      "1172\n",
      "1173\n",
      "1174\n",
      "1175\n",
      "1176\n",
      "1177\n",
      "1178\n",
      "1179\n",
      "1180\n",
      "1181\n",
      "1182\n",
      "1183\n",
      "1184\n",
      "1221\n",
      "1222\n",
      "1223\n",
      "1224\n",
      "1225\n",
      "1227\n",
      "1228\n",
      "1229\n",
      "1230\n",
      "1231\n",
      "1232\n",
      "1233\n",
      "1234\n",
      "1235\n",
      "1272\n",
      "1273\n",
      "1274\n",
      "1278\n",
      "1279\n",
      "1280\n",
      "1281\n",
      "1282\n",
      "1283\n",
      "1284\n",
      "1285\n",
      "1286\n",
      "1287\n",
      "1326\n",
      "1327\n",
      "1331\n",
      "1332\n",
      "1333\n",
      "1334\n",
      "1335\n",
      "1336\n",
      "1337\n",
      "1338\n",
      "1339\n",
      "1376\n",
      "1377\n",
      "1378\n",
      "1380\n",
      "1382\n",
      "1383\n",
      "1384\n",
      "1385\n",
      "1386\n",
      "1387\n",
      "1388\n",
      "1389\n",
      "1390\n",
      "1426\n",
      "1431\n",
      "1434\n",
      "1435\n",
      "1436\n",
      "1437\n",
      "1438\n",
      "1439\n",
      "1441\n",
      "1442\n",
      "1480\n",
      "1482\n",
      "1483\n",
      "1530\n",
      "1532\n",
      "1533\n",
      "1580\n",
      "1630\n",
      "1684\n",
      "1733\n",
      "1734\n",
      "1783\n",
      "2068\n",
      "2069\n",
      "2118\n",
      "2119\n",
      "2168\n"
     ]
    }
   ],
   "source": [
    "table=pd.DataFrame(columns=clmn)\n",
    "for r in np.unique(total.reg):\n",
    "    tmp=pd.concat((total[total.reg==r],add[add.reg==r]),axis=1)\n",
    "    table=pd.concat((table,tmp))\n",
    "    print(r)"
   ]
  },
  {
   "cell_type": "markdown",
   "metadata": {},
   "source": [
    "Убираем пропущенные значения и масштабируем"
   ]
  },
  {
   "cell_type": "code",
   "execution_count": 4,
   "metadata": {
    "ExecuteTime": {
     "end_time": "2017-03-17T10:26:55.792000",
     "start_time": "2017-03-17T10:26:55.729000"
    },
    "collapsed": false,
    "scrolled": true
   },
   "outputs": [
    {
     "data": {
      "text/html": [
       "<div>\n",
       "<table border=\"1\" class=\"dataframe\">\n",
       "  <thead>\n",
       "    <tr style=\"text-align: right;\">\n",
       "      <th></th>\n",
       "      <th>c1</th>\n",
       "      <th>c10</th>\n",
       "      <th>c11</th>\n",
       "      <th>c12</th>\n",
       "      <th>c13</th>\n",
       "      <th>c14</th>\n",
       "      <th>c15</th>\n",
       "      <th>c16</th>\n",
       "      <th>c17</th>\n",
       "      <th>c18</th>\n",
       "      <th>...</th>\n",
       "      <th>neibh_24h</th>\n",
       "      <th>neibh_168h</th>\n",
       "      <th>blizzard</th>\n",
       "      <th>holidays</th>\n",
       "      <th>passenger_count</th>\n",
       "      <th>trip_distance</th>\n",
       "      <th>payment_type</th>\n",
       "      <th>total_amount</th>\n",
       "      <th>time</th>\n",
       "      <th>reg</th>\n",
       "    </tr>\n",
       "  </thead>\n",
       "  <tbody>\n",
       "    <tr>\n",
       "      <th>2015-06-01 00:00:00</th>\n",
       "      <td>1.000000</td>\n",
       "      <td>1.000000</td>\n",
       "      <td>1.000000</td>\n",
       "      <td>1.000000</td>\n",
       "      <td>1.000000</td>\n",
       "      <td>1.000000e+00</td>\n",
       "      <td>1.000000</td>\n",
       "      <td>1.000000</td>\n",
       "      <td>1.000000</td>\n",
       "      <td>1.000000</td>\n",
       "      <td>...</td>\n",
       "      <td>0.0</td>\n",
       "      <td>0.0</td>\n",
       "      <td>0.0</td>\n",
       "      <td>0.0</td>\n",
       "      <td>2.075000</td>\n",
       "      <td>3.943750</td>\n",
       "      <td>1.425000</td>\n",
       "      <td>17.367750</td>\n",
       "      <td>661.375000</td>\n",
       "      <td>1075</td>\n",
       "    </tr>\n",
       "    <tr>\n",
       "      <th>2015-06-01 01:00:00</th>\n",
       "      <td>0.999301</td>\n",
       "      <td>0.930874</td>\n",
       "      <td>0.916562</td>\n",
       "      <td>0.900969</td>\n",
       "      <td>0.884115</td>\n",
       "      <td>8.660254e-01</td>\n",
       "      <td>0.846724</td>\n",
       "      <td>0.826239</td>\n",
       "      <td>0.804598</td>\n",
       "      <td>0.781831</td>\n",
       "      <td>...</td>\n",
       "      <td>0.0</td>\n",
       "      <td>0.0</td>\n",
       "      <td>0.0</td>\n",
       "      <td>0.0</td>\n",
       "      <td>1.882353</td>\n",
       "      <td>6.298235</td>\n",
       "      <td>1.294118</td>\n",
       "      <td>23.553529</td>\n",
       "      <td>978.411765</td>\n",
       "      <td>1075</td>\n",
       "    </tr>\n",
       "    <tr>\n",
       "      <th>2015-06-01 02:00:00</th>\n",
       "      <td>0.997204</td>\n",
       "      <td>0.733052</td>\n",
       "      <td>0.680173</td>\n",
       "      <td>0.623490</td>\n",
       "      <td>0.563320</td>\n",
       "      <td>5.000000e-01</td>\n",
       "      <td>0.433884</td>\n",
       "      <td>0.365341</td>\n",
       "      <td>0.294755</td>\n",
       "      <td>0.222521</td>\n",
       "      <td>...</td>\n",
       "      <td>0.0</td>\n",
       "      <td>0.0</td>\n",
       "      <td>0.0</td>\n",
       "      <td>0.0</td>\n",
       "      <td>1.000000</td>\n",
       "      <td>7.920000</td>\n",
       "      <td>1.800000</td>\n",
       "      <td>26.110000</td>\n",
       "      <td>982.000000</td>\n",
       "      <td>1075</td>\n",
       "    </tr>\n",
       "    <tr>\n",
       "      <th>2015-06-01 03:00:00</th>\n",
       "      <td>0.993712</td>\n",
       "      <td>0.433884</td>\n",
       "      <td>0.330279</td>\n",
       "      <td>0.222521</td>\n",
       "      <td>0.111964</td>\n",
       "      <td>6.123234e-17</td>\n",
       "      <td>-0.111964</td>\n",
       "      <td>-0.222521</td>\n",
       "      <td>-0.330279</td>\n",
       "      <td>-0.433884</td>\n",
       "      <td>...</td>\n",
       "      <td>0.0</td>\n",
       "      <td>0.0</td>\n",
       "      <td>0.0</td>\n",
       "      <td>0.0</td>\n",
       "      <td>2.200000</td>\n",
       "      <td>9.384000</td>\n",
       "      <td>1.200000</td>\n",
       "      <td>33.660000</td>\n",
       "      <td>1041.200000</td>\n",
       "      <td>1075</td>\n",
       "    </tr>\n",
       "    <tr>\n",
       "      <th>2015-06-01 04:00:00</th>\n",
       "      <td>0.988831</td>\n",
       "      <td>0.074730</td>\n",
       "      <td>-0.074730</td>\n",
       "      <td>-0.222521</td>\n",
       "      <td>-0.365341</td>\n",
       "      <td>-5.000000e-01</td>\n",
       "      <td>-0.623490</td>\n",
       "      <td>-0.733052</td>\n",
       "      <td>-0.826239</td>\n",
       "      <td>-0.900969</td>\n",
       "      <td>...</td>\n",
       "      <td>0.0</td>\n",
       "      <td>0.0</td>\n",
       "      <td>0.0</td>\n",
       "      <td>0.0</td>\n",
       "      <td>2.125000</td>\n",
       "      <td>6.648750</td>\n",
       "      <td>1.250000</td>\n",
       "      <td>25.496250</td>\n",
       "      <td>923.000000</td>\n",
       "      <td>1075</td>\n",
       "    </tr>\n",
       "  </tbody>\n",
       "</table>\n",
       "<p>5 rows × 139 columns</p>\n",
       "</div>"
      ],
      "text/plain": [
       "                           c1       c10       c11       c12       c13  \\\n",
       "2015-06-01 00:00:00  1.000000  1.000000  1.000000  1.000000  1.000000   \n",
       "2015-06-01 01:00:00  0.999301  0.930874  0.916562  0.900969  0.884115   \n",
       "2015-06-01 02:00:00  0.997204  0.733052  0.680173  0.623490  0.563320   \n",
       "2015-06-01 03:00:00  0.993712  0.433884  0.330279  0.222521  0.111964   \n",
       "2015-06-01 04:00:00  0.988831  0.074730 -0.074730 -0.222521 -0.365341   \n",
       "\n",
       "                              c14       c15       c16       c17       c18  \\\n",
       "2015-06-01 00:00:00  1.000000e+00  1.000000  1.000000  1.000000  1.000000   \n",
       "2015-06-01 01:00:00  8.660254e-01  0.846724  0.826239  0.804598  0.781831   \n",
       "2015-06-01 02:00:00  5.000000e-01  0.433884  0.365341  0.294755  0.222521   \n",
       "2015-06-01 03:00:00  6.123234e-17 -0.111964 -0.222521 -0.330279 -0.433884   \n",
       "2015-06-01 04:00:00 -5.000000e-01 -0.623490 -0.733052 -0.826239 -0.900969   \n",
       "\n",
       "                     ...   neibh_24h  neibh_168h  blizzard  holidays  \\\n",
       "2015-06-01 00:00:00  ...         0.0         0.0       0.0       0.0   \n",
       "2015-06-01 01:00:00  ...         0.0         0.0       0.0       0.0   \n",
       "2015-06-01 02:00:00  ...         0.0         0.0       0.0       0.0   \n",
       "2015-06-01 03:00:00  ...         0.0         0.0       0.0       0.0   \n",
       "2015-06-01 04:00:00  ...         0.0         0.0       0.0       0.0   \n",
       "\n",
       "                     passenger_count  trip_distance  payment_type  \\\n",
       "2015-06-01 00:00:00         2.075000       3.943750      1.425000   \n",
       "2015-06-01 01:00:00         1.882353       6.298235      1.294118   \n",
       "2015-06-01 02:00:00         1.000000       7.920000      1.800000   \n",
       "2015-06-01 03:00:00         2.200000       9.384000      1.200000   \n",
       "2015-06-01 04:00:00         2.125000       6.648750      1.250000   \n",
       "\n",
       "                     total_amount         time   reg  \n",
       "2015-06-01 00:00:00     17.367750   661.375000  1075  \n",
       "2015-06-01 01:00:00     23.553529   978.411765  1075  \n",
       "2015-06-01 02:00:00     26.110000   982.000000  1075  \n",
       "2015-06-01 03:00:00     33.660000  1041.200000  1075  \n",
       "2015-06-01 04:00:00     25.496250   923.000000  1075  \n",
       "\n",
       "[5 rows x 139 columns]"
      ]
     },
     "execution_count": 4,
     "metadata": {},
     "output_type": "execute_result"
    }
   ],
   "source": [
    "total.head()"
   ]
  },
  {
   "cell_type": "code",
   "execution_count": 5,
   "metadata": {
    "ExecuteTime": {
     "end_time": "2017-03-17T10:26:55.887000",
     "start_time": "2017-03-17T10:26:55.794000"
    },
    "collapsed": true
   },
   "outputs": [],
   "source": [
    "new_features=['passenger_count','trip_distance','payment_type','total_amount','time']"
   ]
  },
  {
   "cell_type": "code",
   "execution_count": 6,
   "metadata": {
    "ExecuteTime": {
     "end_time": "2017-03-17T10:27:03.973000",
     "start_time": "2017-03-17T10:27:02.051000"
    },
    "collapsed": false
   },
   "outputs": [],
   "source": [
    "total[['passenger_count','trip_distance','payment_type','total_amount','time']]=total[['passenger_count','trip_distance','payment_type','total_amount','time']].fillna(0)"
   ]
  },
  {
   "cell_type": "code",
   "execution_count": null,
   "metadata": {
    "collapsed": true
   },
   "outputs": [],
   "source": [
    "scaler = StandardScaler()\n",
    "total[total.columns]=scaler.fit_transform(total[total.columns])"
   ]
  },
  {
   "cell_type": "code",
   "execution_count": 216,
   "metadata": {
    "collapsed": true
   },
   "outputs": [],
   "source": [
    "scaler=MinMaxScaler()\n",
    "total=scaler.fit_transform(total)"
   ]
  },
  {
   "cell_type": "code",
   "execution_count": 12,
   "metadata": {
    "ExecuteTime": {
     "end_time": "2017-03-17T10:30:03.689000",
     "start_time": "2017-03-17T10:30:03.675000"
    },
    "collapsed": false,
    "scrolled": true
   },
   "outputs": [],
   "source": [
    "#a=total['reg'].values[:,0]\n",
    "#del total['reg']\n",
    "total['reg']=a"
   ]
  },
  {
   "cell_type": "code",
   "execution_count": 15,
   "metadata": {
    "ExecuteTime": {
     "end_time": "2017-03-17T10:30:53.201000",
     "start_time": "2017-03-17T10:30:52.550000"
    },
    "collapsed": false
   },
   "outputs": [
    {
     "name": "stderr",
     "output_type": "stream",
     "text": [
      "C:\\Program Files\\Anaconda2\\lib\\site-packages\\ipykernel\\__main__.py:8: SettingWithCopyWarning: \n",
      "A value is trying to be set on a copy of a slice from a DataFrame\n",
      "\n",
      "See the caveats in the documentation: http://pandas.pydata.org/pandas-docs/stable/indexing.html#indexing-view-versus-copy\n"
     ]
    }
   ],
   "source": [
    "train_subset=total[:]\n",
    "train_y1=train_subset.y1.values\n",
    "train_y2=train_subset.y2.values\n",
    "train_y3=train_subset.y3.values\n",
    "train_y4=train_subset.y4.values\n",
    "train_y5=train_subset.y5.values\n",
    "train_y6=train_subset.y6.values\n",
    "train_subset.drop(['y1','y2','y3','y4','y5','y6',],1,inplace=True)"
   ]
  },
  {
   "cell_type": "code",
   "execution_count": 14,
   "metadata": {
    "ExecuteTime": {
     "end_time": "2017-03-17T10:30:15.924000",
     "start_time": "2017-03-17T10:30:15.674000"
    },
    "collapsed": false
   },
   "outputs": [
    {
     "name": "stderr",
     "output_type": "stream",
     "text": [
      "C:\\Program Files\\Anaconda2\\lib\\site-packages\\ipykernel\\__main__.py:8: SettingWithCopyWarning: \n",
      "A value is trying to be set on a copy of a slice from a DataFrame\n",
      "\n",
      "See the caveats in the documentation: http://pandas.pydata.org/pandas-docs/stable/indexing.html#indexing-view-versus-copy\n"
     ]
    }
   ],
   "source": [
    "test_may=total[\"2016-05-01 00:00:00\":\"2016-05-31 23:00:00\"]\n",
    "test_y1=test_may.y1.values\n",
    "test_y2=test_may.y2.values\n",
    "test_y3=test_may.y3.values\n",
    "test_y4=test_may.y4.values\n",
    "test_y5=test_may.y5.values\n",
    "test_y6=test_may.y6.values\n",
    "test_may.drop(['y1','y2','y3','y4','y5','y6',],1,inplace=True)"
   ]
  },
  {
   "cell_type": "code",
   "execution_count": 16,
   "metadata": {
    "ExecuteTime": {
     "end_time": "2017-03-17T10:32:22.430000",
     "start_time": "2017-03-17T10:31:01.380000"
    },
    "collapsed": false
   },
   "outputs": [],
   "source": [
    "dum1=pd.get_dummies(train_subset.reg)\n",
    "#dum3=pd.get_dummies(test_may.reg)\n",
    "train_subset=pd.concat((train_subset,dum1),axis=1)\n",
    "#test_may=pd.concat((test_may,dum3),axis=1)\n",
    "train_subset.drop('reg',1,inplace=True)\n",
    "#test_may.drop('reg',1,inplace=True)"
   ]
  },
  {
   "cell_type": "code",
   "execution_count": 230,
   "metadata": {
    "collapsed": false
   },
   "outputs": [
    {
     "data": {
      "text/plain": [
       "XGBRegressor(base_score=0.5, colsample_bylevel=1, colsample_bytree=1, gamma=0,\n",
       "       learning_rate=0.1, max_delta_step=0, max_depth=3,\n",
       "       min_child_weight=1, missing=None, n_estimators=70, nthread=-1,\n",
       "       objective='reg:linear', reg_alpha=0, reg_lambda=1,\n",
       "       scale_pos_weight=1, seed=0, silent=True, subsample=1)"
      ]
     },
     "execution_count": 230,
     "metadata": {},
     "output_type": "execute_result"
    }
   ],
   "source": [
    "est=RandomizedLasso()\n",
    "X_new=train_subset.values\n",
    "#X_new=est.fit_transform(train_subset.values, train_y1)\n",
    "est1=XGBRegressor(n_estimators=70,max_depth=3)\n",
    "est1.fit(X_new, train_y1)"
   ]
  },
  {
   "cell_type": "code",
   "execution_count": 231,
   "metadata": {
    "collapsed": false
   },
   "outputs": [
    {
     "data": {
      "text/plain": [
       "XGBRegressor(base_score=0.5, colsample_bylevel=1, colsample_bytree=1, gamma=0,\n",
       "       learning_rate=0.1, max_delta_step=0, max_depth=3,\n",
       "       min_child_weight=1, missing=None, n_estimators=70, nthread=-1,\n",
       "       objective='reg:linear', reg_alpha=0, reg_lambda=1,\n",
       "       scale_pos_weight=1, seed=0, silent=True, subsample=1)"
      ]
     },
     "execution_count": 231,
     "metadata": {},
     "output_type": "execute_result"
    }
   ],
   "source": [
    "est2=XGBRegressor(n_estimators=70,max_depth=3)\n",
    "est2.fit(X_new, train_y2)"
   ]
  },
  {
   "cell_type": "code",
   "execution_count": 232,
   "metadata": {
    "collapsed": false
   },
   "outputs": [
    {
     "data": {
      "text/plain": [
       "XGBRegressor(base_score=0.5, colsample_bylevel=1, colsample_bytree=1, gamma=0,\n",
       "       learning_rate=0.1, max_delta_step=0, max_depth=3,\n",
       "       min_child_weight=1, missing=None, n_estimators=70, nthread=-1,\n",
       "       objective='reg:linear', reg_alpha=0, reg_lambda=1,\n",
       "       scale_pos_weight=1, seed=0, silent=True, subsample=1)"
      ]
     },
     "execution_count": 232,
     "metadata": {},
     "output_type": "execute_result"
    }
   ],
   "source": [
    "est3=XGBRegressor(n_estimators=70,max_depth=3)\n",
    "est3.fit(X_new, train_y3)"
   ]
  },
  {
   "cell_type": "code",
   "execution_count": 233,
   "metadata": {
    "collapsed": false
   },
   "outputs": [
    {
     "data": {
      "text/plain": [
       "XGBRegressor(base_score=0.5, colsample_bylevel=1, colsample_bytree=1, gamma=0,\n",
       "       learning_rate=0.1, max_delta_step=0, max_depth=3,\n",
       "       min_child_weight=1, missing=None, n_estimators=70, nthread=-1,\n",
       "       objective='reg:linear', reg_alpha=0, reg_lambda=1,\n",
       "       scale_pos_weight=1, seed=0, silent=True, subsample=1)"
      ]
     },
     "execution_count": 233,
     "metadata": {},
     "output_type": "execute_result"
    }
   ],
   "source": [
    "est4=XGBRegressor(n_estimators=70,max_depth=3)\n",
    "est4.fit(X_new, train_y4)"
   ]
  },
  {
   "cell_type": "code",
   "execution_count": 234,
   "metadata": {
    "collapsed": false
   },
   "outputs": [
    {
     "data": {
      "text/plain": [
       "XGBRegressor(base_score=0.5, colsample_bylevel=1, colsample_bytree=1, gamma=0,\n",
       "       learning_rate=0.1, max_delta_step=0, max_depth=3,\n",
       "       min_child_weight=1, missing=None, n_estimators=70, nthread=-1,\n",
       "       objective='reg:linear', reg_alpha=0, reg_lambda=1,\n",
       "       scale_pos_weight=1, seed=0, silent=True, subsample=1)"
      ]
     },
     "execution_count": 234,
     "metadata": {},
     "output_type": "execute_result"
    }
   ],
   "source": [
    "est5=XGBRegressor(n_estimators=70,max_depth=3)\n",
    "est5.fit(X_new, train_y5)"
   ]
  },
  {
   "cell_type": "code",
   "execution_count": 235,
   "metadata": {
    "collapsed": false
   },
   "outputs": [
    {
     "data": {
      "text/plain": [
       "XGBRegressor(base_score=0.5, colsample_bylevel=1, colsample_bytree=1, gamma=0,\n",
       "       learning_rate=0.1, max_delta_step=0, max_depth=3,\n",
       "       min_child_weight=1, missing=None, n_estimators=70, nthread=-1,\n",
       "       objective='reg:linear', reg_alpha=0, reg_lambda=1,\n",
       "       scale_pos_weight=1, seed=0, silent=True, subsample=1)"
      ]
     },
     "execution_count": 235,
     "metadata": {},
     "output_type": "execute_result"
    }
   ],
   "source": [
    "est6=XGBRegressor(n_estimators=70,max_depth=3)\n",
    "est6.fit(X_new, train_y6)"
   ]
  },
  {
   "cell_type": "code",
   "execution_count": 236,
   "metadata": {
    "collapsed": false,
    "scrolled": true
   },
   "outputs": [],
   "source": [
    "#test_may_new=est.transform(test_may.values)\n",
    "test_may_new=test_may.values\n",
    "pr1=est1.predict(test_may_new)\n",
    "pr2=est2.predict(test_may_new)\n",
    "pr3=est3.predict(test_may_new)\n",
    "pr4=est4.predict(test_may_new)\n",
    "pr5=est5.predict(test_may_new)\n",
    "pr6=est6.predict(test_may_new)"
   ]
  },
  {
   "cell_type": "code",
   "execution_count": 174,
   "metadata": {
    "collapsed": false
   },
   "outputs": [
    {
     "data": {
      "text/plain": [
       "26.842324766505033"
      ]
     },
     "execution_count": 174,
     "metadata": {},
     "output_type": "execute_result"
    }
   ],
   "source": [
    "ans=np.sum(np.abs(test_y1-pr1))+np.sum(np.abs(test_y2-pr2))+np.sum(np.abs(test_y3-pr3))+np.sum(np.abs(test_y4-pr4))+np.sum(np.abs(test_y5-pr5))+np.sum(np.abs(test_y6-pr6))\n",
    "float(ans)/102/739/6"
   ]
  },
  {
   "cell_type": "code",
   "execution_count": 237,
   "metadata": {
    "collapsed": false
   },
   "outputs": [
    {
     "data": {
      "text/plain": [
       "0.1078124384139492"
      ]
     },
     "execution_count": 237,
     "metadata": {},
     "output_type": "execute_result"
    }
   ],
   "source": [
    "ans=np.sum(np.abs(test_y1-pr1))+np.sum(np.abs(test_y2-pr2))+np.sum(np.abs(test_y3-pr3))+np.sum(np.abs(test_y4-pr4))+np.sum(np.abs(test_y5-pr5))+np.sum(np.abs(test_y6-pr6))\n",
    "float(ans)/102/739/6"
   ]
  },
  {
   "cell_type": "code",
   "execution_count": 187,
   "metadata": {
    "collapsed": false
   },
   "outputs": [
    {
     "name": "stdout",
     "output_type": "stream",
     "text": [
      "20.7314320585\n",
      "26.3957040932\n",
      "30.5575689682\n",
      "29.2985670697\n",
      "29.5015590762\n",
      "36.2418606903\n"
     ]
    }
   ],
   "source": [
    "print(sum(np.abs(test_y1-pr1))/102/739)\n",
    "print(sum(np.abs(test_y2-pr2))/102/739)\n",
    "print(sum(np.abs(test_y3-pr3))/102/739)\n",
    "print(sum(np.abs(test_y4-pr4))/102/739)\n",
    "print(sum(np.abs(test_y5-pr5))/102/739)\n",
    "print(sum(np.abs(test_y6-pr6))/102/739)"
   ]
  },
  {
   "cell_type": "code",
   "execution_count": 176,
   "metadata": {
    "collapsed": false
   },
   "outputs": [
    {
     "name": "stdout",
     "output_type": "stream",
     "text": [
      "20.7801155011\n",
      "26.2884765802\n",
      "27.9977648415\n",
      "28.5360272561\n",
      "28.7858821372\n",
      "28.6656822829\n"
     ]
    }
   ],
   "source": [
    "print(sum(np.abs(test_y1-pr1))/102/739)\n",
    "print(sum(np.abs(test_y2-pr2))/102/739)\n",
    "print(sum(np.abs(test_y3-pr3))/102/739)\n",
    "print(sum(np.abs(test_y4-pr4))/102/739)\n",
    "print(sum(np.abs(test_y5-pr5))/102/739)\n",
    "print(sum(np.abs(test_y6-pr6))/102/739)"
   ]
  },
  {
   "cell_type": "code",
   "execution_count": 201,
   "metadata": {
    "collapsed": false
   },
   "outputs": [
    {
     "name": "stdout",
     "output_type": "stream",
     "text": [
      "20.7801155011\n",
      "26.2839259561\n",
      "27.9727345063\n",
      "28.5049130737\n",
      "28.7858821372\n",
      "28.6656822829\n"
     ]
    }
   ],
   "source": [
    "print(sum(np.abs(test_y1-pr1))/102/739)\n",
    "print(sum(np.abs(test_y2-pr2))/102/739)\n",
    "print(sum(np.abs(test_y3-pr3))/102/739)\n",
    "print(sum(np.abs(test_y4-pr4))/102/739)\n",
    "print(sum(np.abs(test_y5-pr5))/102/739)\n",
    "print(sum(np.abs(test_y6-pr6))/102/739)"
   ]
  },
  {
   "cell_type": "code",
   "execution_count": 243,
   "metadata": {
    "collapsed": true
   },
   "outputs": [],
   "source": [
    "del total['reg']"
   ]
  },
  {
   "cell_type": "code",
   "execution_count": 244,
   "metadata": {
    "collapsed": false
   },
   "outputs": [],
   "source": [
    "total=scaler.inverse_transform(total)"
   ]
  },
  {
   "cell_type": "code",
   "execution_count": 186,
   "metadata": {
    "collapsed": false
   },
   "outputs": [
    {
     "name": "stdout",
     "output_type": "stream",
     "text": [
      "20.7314320585\n"
     ]
    }
   ],
   "source": [
    "#test_may_new=test_may.values\n",
    "test_may_new=est.transform(test_may.values)\n",
    "pr1=est1.predict(test_may_new)\n",
    "print(sum(np.abs(test_y1-pr1))/102/739)"
   ]
  },
  {
   "cell_type": "code",
   "execution_count": 211,
   "metadata": {
    "collapsed": false,
    "scrolled": true
   },
   "outputs": [],
   "source": [
    "import pickle\n",
    "with open('est1.pkl','wb') as f:\n",
    "    pickle.dump(est1,f)\n",
    "with open('est2.pkl','wb') as f:\n",
    "    pickle.dump(est2,f)\n",
    "with open('est3.pkl','wb') as f:\n",
    "    pickle.dump(est3,f)\n",
    "with open('est4.pkl','wb') as f:\n",
    "    pickle.dump(est4,f)\n",
    "with open('est5.pkl','wb') as f:\n",
    "    pickle.dump(est5,f)\n",
    "with open('est6.pkl','wb') as f:\n",
    "    pickle.dump(est6,f)"
   ]
  },
  {
   "cell_type": "code",
   "execution_count": 162,
   "metadata": {
    "collapsed": false
   },
   "outputs": [
    {
     "data": {
      "text/plain": [
       "25.423147337419408"
      ]
     },
     "execution_count": 162,
     "metadata": {},
     "output_type": "execute_result"
    }
   ],
   "source": [
    "test_may_new=test_may.values\n",
    "#test_may_new=est.transform(test_may.values)\n",
    "pr1=est1.predict(test_may_new)\n",
    "sum(pr1)/102/739/6"
   ]
  },
  {
   "cell_type": "code",
   "execution_count": 212,
   "metadata": {
    "collapsed": false
   },
   "outputs": [
    {
     "data": {
      "text/plain": [
       "<matplotlib.axes._subplots.AxesSubplot at 0x3d0a66d8>"
      ]
     },
     "execution_count": 212,
     "metadata": {},
     "output_type": "execute_result"
    },
    {
     "data": {
      "image/png": "[encoded data removed]",
      "text/plain": [
       "<matplotlib.figure.Figure at 0x2b02ae48>"
      ]
     },
     "metadata": {},
     "output_type": "display_data"
    }
   ],
   "source": [
    "plot_importance(est1)"
   ]
  },
  {
   "cell_type": "code",
   "execution_count": 289,
   "metadata": {
    "collapsed": false
   },
   "outputs": [
    {
     "data": {
      "text/plain": [
       "array([u'c1', u'c10', u'c11', u'c12', u'c13', u'c14', u'c15', u'c16',\n",
       "       u'c17', u'c18', u'c19', u'c2', u'c20', u'c21', u'c22', u'c23',\n",
       "       u'c24', u'c25', u'c26', u'c27', u'c28', u'c29', u'c3', u'c30',\n",
       "       u'c31', u'c32', u'c33', u'c34', u'c35', u'c4', u'c5', u'c6', u'c7',\n",
       "       u'c8', u'c9', u'day', u'hour', u'k1', 'k10', 'k11', 'k12', 'k13',\n",
       "       'k14', 'k15', 'k16', 'k17', 'k18', 'k19', u'k2', 'k20', 'k21',\n",
       "       'k22', 'k23', 'k24', u'k3', u'k4', u'k5', u'k6', 'k7', 'k8', 'k9',\n",
       "       u'kd1', 'kd10', 'kd11', 'kd12', 'kd13', 'kd14', u'kd2', 'kd3',\n",
       "       'kd4', 'kd5', 'kd6', 'kd7', 'kd8', 'kd9', u'month', 'pr', u'reg',\n",
       "       u's1', u's10', u's11', u's12', u's13', u's14', u's15', u's16',\n",
       "       u's17', u's18', u's19', u's2', u's20', u's21', u's22', u's23',\n",
       "       u's24', u's25', u's26', u's27', u's28', u's29', u's3', u's30',\n",
       "       u's31', u's32', u's33', u's34', u's35', u's4', u's5', u's6', u's7',\n",
       "       u's8', u's9', u'sum12', u'sum168', u'sum24', u'sum720', u'week',\n",
       "       u'weekday', 'y', u'y1', u'y2', u'y3', u'y4', u'y5', u'y6', u'year',\n",
       "       'air', 'neibh_1h', 'neibh_24h', 'neibh_168h', 'blizzard', 'holidays'], dtype=object)"
      ]
     },
     "execution_count": 289,
     "metadata": {},
     "output_type": "execute_result"
    }
   ],
   "source": [
    "total.columns.values"
   ]
  },
  {
   "cell_type": "code",
   "execution_count": null,
   "metadata": {
    "collapsed": true
   },
   "outputs": [],
   "source": []
  },
  {
   "cell_type": "code",
   "execution_count": 204,
   "metadata": {
    "collapsed": false
   },
   "outputs": [
    {
     "name": "stderr",
     "output_type": "stream",
     "text": [
      "C:\\Program Files\\Anaconda2\\lib\\site-packages\\ipykernel\\__main__.py:8: SettingWithCopyWarning: \n",
      "A value is trying to be set on a copy of a slice from a DataFrame\n",
      "\n",
      "See the caveats in the documentation: http://pandas.pydata.org/pandas-docs/stable/indexing.html#indexing-view-versus-copy\n"
     ]
    }
   ],
   "source": [
    "test_june=total[\"2016-05-31 23:00:00\":\"2016-06-30 17:00:00\"]\n",
    "test_y1=test_june.y1.values\n",
    "test_y2=test_june.y2.values\n",
    "test_y3=test_june.y3.values\n",
    "test_y4=test_june.y4.values\n",
    "test_y5=test_june.y5.values\n",
    "test_y6=test_june.y6.values\n",
    "test_june.drop(['y1','y2','y3','y4','y5','y6',],1,inplace=True)"
   ]
  },
  {
   "cell_type": "code",
   "execution_count": 205,
   "metadata": {
    "collapsed": true
   },
   "outputs": [],
   "source": [
    "dum2=pd.get_dummies(test_june.reg)\n",
    "test_june=pd.concat((test_june,dum2),axis=1)\n",
    "test_june.drop('reg',1,inplace=True)"
   ]
  },
  {
   "cell_type": "code",
   "execution_count": 206,
   "metadata": {
    "collapsed": false,
    "scrolled": true
   },
   "outputs": [],
   "source": [
    "#test_june_new=est.transform(test_june.values)\n",
    "test_june_new=test_june.values\n",
    "pr1=est1.predict(test_june_new)\n",
    "pr2=est2.predict(test_june_new)\n",
    "pr3=est3.predict(test_june_new)\n",
    "pr4=est4.predict(test_june_new)\n",
    "pr5=est5.predict(test_june_new)\n",
    "pr6=est6.predict(test_june_new)\n",
    "pr1[pr1<0]=0\n",
    "pr2[pr2<0]=0\n",
    "pr3[pr3<0]=0\n",
    "pr4[pr4<0]=0\n",
    "pr5[pr5<0]=0\n",
    "pr6[pr6<0]=0"
   ]
  },
  {
   "cell_type": "code",
   "execution_count": 207,
   "metadata": {
    "collapsed": false
   },
   "outputs": [
    {
     "data": {
      "text/plain": [
       "25.02902140377661"
      ]
     },
     "execution_count": 207,
     "metadata": {},
     "output_type": "execute_result"
    }
   ],
   "source": [
    "ans=np.sum(np.abs(test_y1-pr1))+np.sum(np.abs(test_y2-pr2))+np.sum(np.abs(test_y3-pr3))+np.sum(np.abs(test_y4-pr4))+np.sum(np.abs(test_y5-pr5))+np.sum(np.abs(test_y6-pr6))\n",
    "float(ans)/102/715/6"
   ]
  },
  {
   "cell_type": "code",
   "execution_count": 43,
   "metadata": {
    "collapsed": true
   },
   "outputs": [],
   "source": [
    "def get_ans(x):\n",
    "    return x['reg']+'_'+str(x['date'].date())+'_'+str((x['date'].hour))"
   ]
  },
  {
   "cell_type": "code",
   "execution_count": 46,
   "metadata": {
    "collapsed": false,
    "scrolled": true
   },
   "outputs": [
    {
     "name": "stderr",
     "output_type": "stream",
     "text": [
      "C:\\Program Files\\Anaconda2\\lib\\site-packages\\ipykernel\\__main__.py:1: SettingWithCopyWarning: \n",
      "A value is trying to be set on a copy of a slice from a DataFrame.\n",
      "Try using .loc[row_indexer,col_indexer] = value instead\n",
      "\n",
      "See the caveats in the documentation: http://pandas.pydata.org/pandas-docs/stable/indexing.html#indexing-view-versus-copy\n",
      "  if __name__ == '__main__':\n",
      "C:\\Program Files\\Anaconda2\\lib\\site-packages\\ipykernel\\__main__.py:2: SettingWithCopyWarning: \n",
      "A value is trying to be set on a copy of a slice from a DataFrame.\n",
      "Try using .loc[row_indexer,col_indexer] = value instead\n",
      "\n",
      "See the caveats in the documentation: http://pandas.pydata.org/pandas-docs/stable/indexing.html#indexing-view-versus-copy\n",
      "  from ipykernel import kernelapp as app\n"
     ]
    }
   ],
   "source": [
    "test_june['date']=test_june.index\n",
    "test_june['ans']=test_june.apply(get_ans,axis=1)\n",
    "date=test_june['ans'].values\n",
    "ans=pd.DataFrame(columns=['id','y'])"
   ]
  },
  {
   "cell_type": "code",
   "execution_count": 47,
   "metadata": {
    "collapsed": true
   },
   "outputs": [],
   "source": [
    "date1=[x+'_1' for x in date]\n",
    "date2=[x+'_2' for x in date]\n",
    "date3=[x+'_3' for x in date]\n",
    "date4=[x+'_4' for x in date]\n",
    "date5=[x+'_5' for x in date]\n",
    "date6=[x+'_6' for x in date]"
   ]
  },
  {
   "cell_type": "code",
   "execution_count": 48,
   "metadata": {
    "collapsed": true
   },
   "outputs": [],
   "source": [
    "ans1=pd.DataFrame(zip(date1,pr1),columns=['id','y'])\n",
    "ans2=pd.DataFrame(zip(date2,pr2),columns=['id','y'])\n",
    "ans3=pd.DataFrame(zip(date3,pr3),columns=['id','y'])\n",
    "ans4=pd.DataFrame(zip(date4,pr4),columns=['id','y'])\n",
    "ans5=pd.DataFrame(zip(date5,pr5),columns=['id','y'])\n",
    "ans6=pd.DataFrame(zip(date6,pr6),columns=['id','y'])"
   ]
  },
  {
   "cell_type": "code",
   "execution_count": 49,
   "metadata": {
    "collapsed": true
   },
   "outputs": [],
   "source": [
    "ans=pd.concat((ans,ans1),axis=0)\n",
    "ans=pd.concat((ans,ans2),axis=0)\n",
    "ans=pd.concat((ans,ans3),axis=0)\n",
    "ans=pd.concat((ans,ans4),axis=0)\n",
    "ans=pd.concat((ans,ans5),axis=0)\n",
    "ans=pd.concat((ans,ans6),axis=0)"
   ]
  },
  {
   "cell_type": "code",
   "execution_count": 50,
   "metadata": {
    "collapsed": true
   },
   "outputs": [],
   "source": [
    "ans.to_csv('taxi333.csv',index=False)"
   ]
  },
  {
   "cell_type": "code",
   "execution_count": 9,
   "metadata": {
    "ExecuteTime": {
     "end_time": "2017-03-17T10:28:52.264000",
     "start_time": "2017-03-17T10:28:52.132000"
    },
    "collapsed": true
   },
   "outputs": [],
   "source": [
    "with open('est1.pkl','rb') as f:\n",
    "    est1=pickle.load(f)\n",
    "with open('est2.pkl','rb') as f:\n",
    "    est2=pickle.load(f)\n",
    "with open('est3.pkl','rb') as f:\n",
    "    est3=pickle.load(f)\n",
    "with open('est4.pkl','rb') as f:\n",
    "    est4=pickle.load(f)\n",
    "with open('est5.pkl','rb') as f:\n",
    "    est5=pickle.load(f)\n",
    "with open('est6.pkl','rb') as f:\n",
    "    est6=pickle.load(f)"
   ]
  },
  {
   "cell_type": "code",
   "execution_count": 7,
   "metadata": {
    "ExecuteTime": {
     "end_time": "2017-03-17T10:27:56.462000",
     "start_time": "2017-03-17T10:27:56.458000"
    },
    "collapsed": true
   },
   "outputs": [],
   "source": [
    "import pickle"
   ]
  },
  {
   "cell_type": "code",
   "execution_count": 33,
   "metadata": {
    "ExecuteTime": {
     "end_time": "2017-03-17T10:45:21.027000",
     "start_time": "2017-03-17T10:45:16.127000"
    },
    "collapsed": true
   },
   "outputs": [],
   "source": [
    "pr6=est6.predict(train_subset.values)"
   ]
  },
  {
   "cell_type": "code",
   "execution_count": 34,
   "metadata": {
    "ExecuteTime": {
     "end_time": "2017-03-17T10:45:24.958000",
     "start_time": "2017-03-17T10:45:24.670000"
    },
    "collapsed": true
   },
   "outputs": [],
   "source": [
    "with open('pr6.pkl','wb') as f:\n",
    "    pickle.dump(pr6,f)"
   ]
  },
  {
   "cell_type": "code",
   "execution_count": 27,
   "metadata": {
    "ExecuteTime": {
     "end_time": "2017-03-17T10:44:23.481000",
     "start_time": "2017-03-17T10:44:22.214000"
    },
    "collapsed": false
   },
   "outputs": [
    {
     "data": {
      "text/plain": [
       "[<matplotlib.lines.Line2D at 0x166cb5c0>]"
      ]
     },
     "execution_count": 27,
     "metadata": {},
     "output_type": "execute_result"
    },
    {
     "data": {
      "image/png": "[encoded data removed]",
      "text/plain": [
       "<matplotlib.figure.Figure at 0xff97048>"
      ]
     },
     "metadata": {},
     "output_type": "display_data"
    }
   ],
   "source": [
    "plt.plot(pr3)"
   ]
  },
  {
   "cell_type": "code",
   "execution_count": 28,
   "metadata": {
    "ExecuteTime": {
     "end_time": "2017-03-17T10:44:31.546000",
     "start_time": "2017-03-17T10:44:29.649000"
    },
    "collapsed": false
   },
   "outputs": [
    {
     "data": {
      "text/plain": [
       "[<matplotlib.lines.Line2D at 0x67aba358>]"
      ]
     },
     "execution_count": 28,
     "metadata": {},
     "output_type": "execute_result"
    },
    {
     "data": {
      "image/png": "[encoded data removed]",
      "text/plain": [
       "<matplotlib.figure.Figure at 0x193f6048>"
      ]
     },
     "metadata": {},
     "output_type": "display_data"
    }
   ],
   "source": [
    "plt.plot(train_y3)"
   ]
  },
  {
   "cell_type": "code",
   "execution_count": null,
   "metadata": {
    "collapsed": true
   },
   "outputs": [],
   "source": []
  }
 ],
 "metadata": {
  "anaconda-cloud": {},
  "hide_input": false,
  "kernelspec": {
   "display_name": "Python [default]",
   "language": "python",
   "name": "python2"
  },
  "language_info": {
   "codemirror_mode": {
    "name": "ipython",
    "version": 2
   },
   "file_extension": ".py",
   "mimetype": "text/x-python",
   "name": "python",
   "nbconvert_exporter": "python",
   "pygments_lexer": "ipython2",
   "version": "2.7.12"
  },
  "latex_envs": {
   "LaTeX_envs_menu_present": true,
   "autocomplete": true,
   "bibliofile": "biblio.bib",
   "cite_by": "apalike",
   "current_citInitial": 1,
   "eqLabelWithNumbers": false,
   "eqNumInitial": 1,
   "hotkeys": {},
   "labels_anchors": false,
   "latex_user_defs": false,
   "report_style_numbering": false,
   "user_envs_cfg": false
  }
 },
 "nbformat": 4,
 "nbformat_minor": 1
}
